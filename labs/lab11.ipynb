{
 "cells": [
  {
   "cell_type": "markdown",
   "metadata": {},
   "source": [
    "# CSC413 Lab 11: Text Generation with Transformers\n",
    "\n",
    "In this lab, we will build a generative transformer to generate\n",
    "new lines that emulates the TV show [Friends](https://www.imdb.com/title/tt0108778/).\n",
    "In order to do so, we will leverage\n",
    "Andrej Karpathy's implementation of GPT2 called the\n",
    "[nanoGPT](https://github.com/karpathy/nanoGPT).\n",
    "This particular implementation uses a small number of components and\n",
    "focuses on the essential ideas behind the GPT2 model.\n",
    "\n",
    "Instead of training a GPT model from scratch, we will *fine-tune*\n",
    "a pre-trained model. This reduces training time necessary to achieve\n",
    "a reasonable measure of performance.\n",
    "\n",
    "By the end of this lab, you will be able to:\n",
    "\n",
    "- Fine-tune a transformer model on a new data set.\n",
    "- Trace the execution of a transformer model to explain its inner working.\n",
    "- Compare the batching approach used here and in the pervious lab.\n",
    "- Explain the ethical issues involved in applying large language models.\n",
    "\n",
    "Acknowledgements:\n",
    "\n",
    "- The nanoGPT implementation is from https://github.com/karpathy/nanoGPT\n",
    "- Data is from https://convokit.cornell.edu/documentation/friends.html\n",
    "- The Byte Pair Encoding tokenizer is from https://github.com/openai/tiktoken\n",
    "- GPT2 Model was introduced in the paper [Language Models are Unsupervised Multitask Learners](https://insightcivic.s3.us-east-1.amazonaws.com/language-models.pdf)\n",
    "\n",
    "Please work in groups of 1-2 during the lab.\n",
    "\n",
    "## Submission\n",
    "\n",
    "If you are working with a partner, start by creating a group on Markus.\n",
    "If you are working alone, click \"Working Alone\".\n",
    "\n",
    "Submit the ipynb file `lab11.ipynb` on Markus \n",
    "**containing all your solutions to the Graded Task**s.\n",
    "Your notebook file must contain your code **and outputs** where applicable,\n",
    "including printed lines and images.\n",
    "Your TA will not run your code for the purpose of grading.\n",
    "\n",
    "For this lab, you should submit the following:\n",
    "\n",
    "- Part 1. Your code to generate the list `uts`. (1 point)\n",
    "- Part 1. Your explanation for why the tokenization method needs to be consistent. (1 point)\n",
    "- Part 1. Your explanation of why the target tensor is an \"offset\" of the input tensor. (1 point)\n",
    "- Part 2. Your explanation of the relationship between `lm_head` and `wte`. (1 point)\n",
    "- Part 2. Your result for the shape of `x` in the `GPT.forward()` method. (1 point)\n",
    "- Part 2. Your computation of the shape of `(q @ k.transpose(-2, -1))` in the causal self attention module (1 point)\n",
    "- Part 2. Your explantion of why masking makes sense intuitively for causal self attention. (1 point)\n",
    "- Part 2. Your computation of the number of parameters in a GPT2 model. (3 points)\n",
    "\n",
    "## Part 1. Data\n",
    "\n",
    "The \"Friends Corpus\" can be downloaded through the ConvKit package on\n",
    "Python. You can read more about the data \n",
    "[here](https://convokit.cornell.edu/documentation/friends.html).\n",
    "\n",
    "Let's install this package, and explore the data set."
   ]
  },
  {
   "cell_type": "code",
   "execution_count": null,
   "metadata": {},
   "outputs": [],
   "source": [
    "%pip install convokit"
   ]
  },
  {
   "cell_type": "code",
   "execution_count": null,
   "metadata": {},
   "outputs": [],
   "source": [
    "import convokit"
   ]
  },
  {
   "cell_type": "code",
   "execution_count": null,
   "metadata": {},
   "outputs": [],
   "source": [
    "corpus = convokit.Corpus(convokit.download('friends-corpus'))"
   ]
  },
  {
   "cell_type": "markdown",
   "metadata": {},
   "source": [
    "**Task**: Run the code below, which iterates through the first 10 utterances\n",
    "of the show. How is each utterance formatted? What do the `speaker`\n",
    "and `text` field mean?"
   ]
  },
  {
   "cell_type": "code",
   "execution_count": null,
   "metadata": {},
   "outputs": [],
   "source": [
    "for i, utterance in enumerate(corpus.iter_utterances()):\n",
    "    print(utterance)\n",
    "    if (i >= 10): \n",
    "        break"
   ]
  },
  {
   "cell_type": "markdown",
   "metadata": {},
   "source": [
    "**Graded Task**: Create a list of strings called `uts` that contains\n",
    "all utterances made by your favourite (of the 6) main character of the show."
   ]
  },
  {
   "cell_type": "code",
   "execution_count": null,
   "metadata": {},
   "outputs": [],
   "source": [
    "character = 'Monica Geller' # OR 'Chandler Bing' OR 'Phoebe Buffay' OR ...\n",
    "\n",
    "uts = []\n",
    "\n",
    "for utterance in corpus.iter_utterances():\n",
    "    pass # TODO"
   ]
  },
  {
   "cell_type": "markdown",
   "metadata": {},
   "source": [
    "Please include the output of this next line in your solution"
   ]
  },
  {
   "cell_type": "code",
   "execution_count": null,
   "metadata": {},
   "outputs": [],
   "source": [
    "print(len(uts)) "
   ]
  },
  {
   "cell_type": "markdown",
   "metadata": {},
   "source": [
    "**Task**: Run the below code. This code combines these lines into a \n",
    "large string for training, and a large string for validation.\n",
    "We will index ranges in this large string use in a minibatch---i.e.\n",
    "a minibatch of data will consist of a substring in this large string.\n",
    "This substring may start in the middle of an utterance and may contain\n",
    "multiple utterances---and that turns out to be okay!\n",
    "Our neural network still manages to learn what an utterance looks\n",
    "like and emulate it.\n",
    "\n",
    "Since this approach simpler to implement than the batching approach\n",
    "seen in the previous lab, it is more often seen\n",
    "\n",
    "We will use 90% of the data for training, and 10% of the data\n",
    "for validation."
   ]
  },
  {
   "cell_type": "code",
   "execution_count": null,
   "metadata": {},
   "outputs": [],
   "source": [
    "train_split = 0.9\n",
    "n = len(uts)\n",
    "\n",
    "train_data_str = '\\n'.join(uts[:int(n*train_split)])\n",
    "val_data_str = '\\n'.join(uts[int(n*train_split):])"
   ]
  },
  {
   "cell_type": "markdown",
   "metadata": {},
   "source": [
    "**Task**: Notice that we split the utterances so that the earlier utterances\n",
    "are in the training set, and the later utterances (i.e., later in the TV show)\n",
    "is in the validation set. Why is this method preferable to randomly splitting\n",
    "the utterances into training and validation?"
   ]
  },
  {
   "cell_type": "code",
   "execution_count": null,
   "metadata": {},
   "outputs": [],
   "source": [
    "# Include your explanation here"
   ]
  },
  {
   "cell_type": "markdown",
   "metadata": {},
   "source": [
    "**Task**: Why do we not set aside a test set?"
   ]
  },
  {
   "cell_type": "code",
   "execution_count": null,
   "metadata": {},
   "outputs": [],
   "source": [
    "# Include your explanation here"
   ]
  },
  {
   "cell_type": "markdown",
   "metadata": {},
   "source": [
    "Just like in the previous lab, we will *tokenize* our text.\n",
    "Modern models use a tokenization strategy called \n",
    "[Byte Pair Encoding](https://en.wikipedia.org/wiki/Byte_pair_encoding),\n",
    "which tokenize text into common into **sub-word tokens**.\n",
    "Sub-word tokens split words into commonly occuring (and thus meaningful) parts.\n",
    "For example, the word \"utterance\" could be split\n",
    "into \"utter\" and \"ance\". The model would learn about these constinuent\n",
    "tokens in different contexts, helping the model generalize better.\n",
    "\n",
    "We will use the Byte Pair Encoding (BPE) tokenizer from the\n",
    "`tiktoken` library. Let's install and import this library."
   ]
  },
  {
   "cell_type": "code",
   "execution_count": null,
   "metadata": {},
   "outputs": [],
   "source": [
    "%pip install tiktoken"
   ]
  },
  {
   "cell_type": "code",
   "execution_count": null,
   "metadata": {},
   "outputs": [],
   "source": [
    "import tiktoken"
   ]
  },
  {
   "cell_type": "markdown",
   "metadata": {},
   "source": [
    "**Graded Task**: We will be fine-tuning a pre-trained GPT2 model.\n",
    "Explain why it is important for us to use the same tokenization \n",
    "method as is used in the original GPT2 model whose weights we will be\n",
    "using."
   ]
  },
  {
   "cell_type": "code",
   "execution_count": null,
   "metadata": {},
   "outputs": [],
   "source": [
    "# Your explanation goes here"
   ]
  },
  {
   "cell_type": "markdown",
   "metadata": {},
   "source": [
    "Now, let's retireve the original GPT2 model."
   ]
  },
  {
   "cell_type": "code",
   "execution_count": null,
   "metadata": {},
   "outputs": [],
   "source": [
    "enc = tiktoken.get_encoding(\"gpt2\")\n",
    "\n",
    "train_ids = enc.encode_ordinary(train_data_str)\n",
    "val_ids = enc.encode_ordinary(val_data_str)"
   ]
  },
  {
   "cell_type": "markdown",
   "metadata": {},
   "source": [
    "**Task**: How many tokens are in the training and validation sets?\n",
    "How does this compare with the number of *words* in each data set\n",
    "(computed using the `str.split()` method)?\n",
    "What about the number of *character*?"
   ]
  },
  {
   "cell_type": "code",
   "execution_count": null,
   "metadata": {},
   "outputs": [],
   "source": [
    "# TODO\n"
   ]
  },
  {
   "cell_type": "markdown",
   "metadata": {},
   "source": [
    "**Task**: Run the below code, which will save the above numpy arrays in a file.\n",
    "This way, we can use `np.memmap` function, which creates a memory-map\n",
    "to an array stored in a binary file on disk. This approach is useful for\n",
    "accessing segments of a large file on disk, which we will be doing."
   ]
  },
  {
   "cell_type": "code",
   "execution_count": null,
   "metadata": {},
   "outputs": [],
   "source": [
    "import numpy as np\n",
    "import os\n",
    "\n",
    "data_dir = 'friends_gpt2'\n",
    "os.makedirs(data_dir, exist_ok=True)\n",
    "\n",
    "# export to bin files\n",
    "train_ids = np.array(train_ids, dtype=np.uint16)\n",
    "val_ids = np.array(val_ids, dtype=np.uint16)\n",
    "train_ids.tofile(os.path.join(data_dir, 'train.bin'))\n",
    "val_ids.tofile(os.path.join(data_dir, 'val.bin'))"
   ]
  },
  {
   "cell_type": "code",
   "execution_count": null,
   "metadata": {},
   "outputs": [],
   "source": [
    "# create a memory map\n",
    "train_data = np.memmap(os.path.join(data_dir, 'train.bin'), dtype=np.uint16, mode='r')\n",
    "val_data = np.memmap(os.path.join(data_dir, 'val.bin'), dtype=np.uint16, mode='r')"
   ]
  },
  {
   "cell_type": "markdown",
   "metadata": {},
   "source": [
    "**Task**: Use the `get_batch` function below to extract a sample input/output \n",
    "from this data set. Here, we will be using the approach shown in\n",
    "the generative RNN lecture, where the model generates the next token given the\n",
    "previous context."
   ]
  },
  {
   "cell_type": "code",
   "execution_count": null,
   "metadata": {},
   "outputs": [],
   "source": [
    "import torch\n",
    "\n",
    "def get_batch(data, block_size, batch_size, device):\n",
    "    \"\"\"\n",
    "    Return a minibatch of data. This function is not deterministic.\n",
    "    Calling this function multiple times will result in multiple different\n",
    "    return values.\n",
    "\n",
    "    Parameters:\n",
    "        `data` - a numpy array (e.g., created via a call to np.memmap)\n",
    "        `block_size` - the length of each sequence\n",
    "        `batch_size` - the number of sequences in the batch\n",
    "        `device` - the device to place the returned PyTorch tensor\n",
    "\n",
    "    Returns: A tuple of PyTorch tensors (x, t), where\n",
    "        `x` - represents the input tokens, with shape (batch_size, block_size)\n",
    "        `y` - represents the target output tokens, with shape (batch_size, block_size)\n",
    "    \"\"\"\n",
    "    ix = torch.randint(len(data) - block_size, (batch_size,))\n",
    "    x = torch.stack([torch.from_numpy((data[i:i+block_size]).astype(np.int64)) for i in ix])\n",
    "    t = torch.stack([torch.from_numpy((data[i+1:i+1+block_size]).astype(np.int64)) for i in ix])\n",
    "    if 'cuda' in device:\n",
    "        # pin arrays x,t, which allows us to move them to GPU asynchronously\n",
    "        #  (non_blocking=True)\n",
    "        x, t = x.pin_memory().to(device, non_blocking=True), t.pin_memory().to(device, non_blocking=True)\n",
    "    else:\n",
    "        x, t = x.to(device), t.to(device)\n",
    "    return x, t"
   ]
  },
  {
   "cell_type": "code",
   "execution_count": null,
   "metadata": {},
   "outputs": [],
   "source": [
    "# TODO: get and print a single batch from the training set\n",
    "device = 'cuda' if torch.cuda.is_available()  else 'cpu'\n"
   ]
  },
  {
   "cell_type": "markdown",
   "metadata": {},
   "source": [
    "**Graded Task**: Once again, we will be using the approach shown in the generative\n",
    "RNN lecture, where the model's goal is to generate the next token given the\n",
    "previous context. With that in mind, explain why the target output tokens is\n",
    "very similar to the input tokens, just offset by 1 along the `block_size`\n",
    "dimension."
   ]
  },
  {
   "cell_type": "code",
   "execution_count": null,
   "metadata": {},
   "outputs": [],
   "source": [
    "# TODO: Your explanation goes here."
   ]
  },
  {
   "cell_type": "markdown",
   "metadata": {},
   "source": [
    "## Part 2. Model\n",
    "\n",
    "Now that we have our data set in mind, it is time to set up our GPT2 model.\n",
    "We will use the code provided in the [nanoGPT repository](https://github.com/karpathy/nanoGPT),\n",
    "slightly modified here for succinctness.\n",
    "Thus, we will not re-implement the GPT2 model. Instead, let's use the \n",
    "nanoGPT implementation to understand, step-by-step, what happens in a GPT model.\n",
    "\n",
    "LISATODO add a blurb about GPT2 model history, paper, and changes since GPT1.\n",
    "\n",
    "\n",
    "We will explore the components of the GPT2 model first in a *top-down* manner, \n",
    "to get an intuition as to how the pieces connect. Then, we will explore the same\n",
    "components in a *bottom-up* manner, so that we can fully understand the role of each\n",
    "component."
   ]
  },
  {
   "cell_type": "code",
   "execution_count": null,
   "metadata": {},
   "outputs": [],
   "source": [
    "from dataclasses import dataclass\n",
    "import torch\n",
    "import torch.nn as nn\n",
    "import torch.nn.functional as F\n",
    "import inspect"
   ]
  },
  {
   "cell_type": "markdown",
   "metadata": {},
   "source": [
    "We begin with the `GPTConfig` class, which contains model architecture\n",
    "settings for our GPT2 model. The settings specify:\n",
    "\n",
    "- `block_size`: the input sequence length. Shorter sequences can be padded (with\n",
    "  a padding token as seen in the previous lab), and \n",
    "  longer sequences must be cut shorter. During training, we will generate batches\n",
    "  with sequences that are exactly the block size\n",
    "- `vocab_size`: the number of unique tokens in our vocabulary. This affects the\n",
    "  size of the initial embedding layer.\n",
    "- `n_layer`: the number of transformer layers.\n",
    "- `n_head`: the number of *attention heads* to use in the causal self-attention layer.\n",
    "- `n_embd`: the embedding size used throughout the model. You can think of each token\n",
    "  position as being represented as a vector of length `n_embd`.\n",
    "- `dropout`: for dropout.\n",
    "- `bias`: whether to use a bias parameter in certain layers."
   ]
  },
  {
   "cell_type": "code",
   "execution_count": null,
   "metadata": {},
   "outputs": [],
   "source": [
    "@dataclass\n",
    "class GPTConfig:\n",
    "    block_size: int = 1024\n",
    "    vocab_size: int = 50304 # GPT-2 vocab_size of 50257, padded up to nearest multiple of 64 for efficiency\n",
    "    n_layer: int = 12\n",
    "    n_head: int = 12\n",
    "    n_embd: int = 768\n",
    "    dropout: float = 0.0\n",
    "    bias: bool = True # True: bias in Linears and LayerNorms, like GPT-2. False: a bit better and faster"
   ]
  },
  {
   "cell_type": "markdown",
   "metadata": {},
   "source": [
    "**Task**: Which of these settings do you think would affect the total number of trainable parameters in a GPT model?\n",
    "Which of them do you think have the **largest impact** on the number of trainable parameters?\n",
    "Please write down your guess before continuing, and we will check back here later."
   ]
  },
  {
   "cell_type": "code",
   "execution_count": null,
   "metadata": {},
   "outputs": [],
   "source": [
    "# TODO: Write down your thoughts here."
   ]
  },
  {
   "cell_type": "markdown",
   "metadata": {},
   "source": [
    "With the setting in mind, we can set up a GPT model.\n",
    "A GPT model will take a GPTConfig object as a parameter.\n",
    "Pay particular attention to the `__init__()` and \n",
    "`forward()` methods. These are the methods that we will\n",
    "study in more detail.\n",
    "\n",
    "The code uses a more PyTorch features that we have not discussed,\n",
    "but these features are mostly cosmetic and do not provide significantly\n",
    "different functionality: the use of `nn.ModuleDict` allows us to access modules\n",
    "in the `GPT` class in a straightforward way, and\n",
    "`nn.ModuleList` allows us to create a list of modules.\n",
    "We have not yet defined the PyTorch neural network modules `Block` and\n",
    "`LayerNorm`, but we will do so soon.\n",
    "\n",
    "If you see a PyTorch feature used that you don't understand, you can\n",
    "always look it up in the PyTorch documentation. However, you don't try to\n",
    "understand everything at one go. It is normal to read code in multiple \"passes\",\n",
    "and focus on the big picture in the first pass.\n",
    "\n",
    "**Task**: Begin with a first pass read of the `__init__()`\n",
    "and `forward()` methods of the `GPT` module."
   ]
  },
  {
   "cell_type": "code",
   "execution_count": null,
   "metadata": {},
   "outputs": [],
   "source": [
    "class GPT(nn.Module):\n",
    "\n",
    "    def __init__(self, config):\n",
    "        super().__init__()\n",
    "        assert config.vocab_size is not None\n",
    "        assert config.block_size is not None\n",
    "        self.config = config\n",
    "\n",
    "        self.transformer = nn.ModuleDict(dict(\n",
    "            wte = nn.Embedding(config.vocab_size, config.n_embd),\n",
    "            wpe = nn.Embedding(config.block_size, config.n_embd),\n",
    "            drop = nn.Dropout(config.dropout),\n",
    "            h = nn.ModuleList([Block(config) for _ in range(config.n_layer)]),\n",
    "            ln_f = LayerNorm(config.n_embd, bias=config.bias),\n",
    "        ))\n",
    "        self.lm_head = nn.Linear(config.n_embd, config.vocab_size, bias=False)\n",
    "        # with weight tying when using torch.compile() some warnings get generated:\n",
    "        # \"UserWarning: functional_call was passed multiple values for tied weights.\n",
    "        # This behavior is deprecated and will be an error in future versions\"\n",
    "        # not 100% sure what this is, so far seems to be harmless. TODO investigate\n",
    "        self.transformer.wte.weight = self.lm_head.weight # https://paperswithcode.com/method/weight-tying\n",
    "\n",
    "        # init all weights\n",
    "        self.apply(self._init_weights)\n",
    "        # apply special scaled init to the residual projections, per GPT-2 paper\n",
    "        for pn, p in self.named_parameters():\n",
    "            if pn.endswith('c_proj.weight'):\n",
    "                torch.nn.init.normal_(p, mean=0.0, std=0.02/math.sqrt(2 * config.n_layer))\n",
    "\n",
    "        # report number of parameters\n",
    "        print(\"number of parameters: %.2fM\" % (self.get_num_params()/1e6,))\n",
    "\n",
    "    def get_num_params(self, non_embedding=True):\n",
    "        \"\"\"\n",
    "        Return the number of parameters in the model.\n",
    "        For non-embedding count (default), the position embeddings get subtracted.\n",
    "        The token embeddings would too, except due to the parameter sharing these\n",
    "        params are actually used as weights in the final layer, so we include them.\n",
    "        \"\"\"\n",
    "        n_params = sum(p.numel() for p in self.parameters())\n",
    "        if non_embedding:\n",
    "            n_params -= self.transformer.wpe.weight.numel()\n",
    "        return n_params\n",
    "\n",
    "    def _init_weights(self, module):\n",
    "        if isinstance(module, nn.Linear):\n",
    "            torch.nn.init.normal_(module.weight, mean=0.0, std=0.02)\n",
    "            if module.bias is not None:\n",
    "                torch.nn.init.zeros_(module.bias)\n",
    "        elif isinstance(module, nn.Embedding):\n",
    "            torch.nn.init.normal_(module.weight, mean=0.0, std=0.02)\n",
    "\n",
    "    def forward(self, idx, targets=None):\n",
    "        device = idx.device\n",
    "        b, t = idx.size()\n",
    "        assert t <= self.config.block_size, f\"Cannot forward sequence of length {t}, block size is only {self.config.block_size}\"\n",
    "        pos = torch.arange(0, t, dtype=torch.long, device=device) # shape (t)\n",
    "\n",
    "        # forward the GPT model itself\n",
    "        tok_emb = self.transformer.wte(idx) # token embeddings of shape (b, t, n_embd)\n",
    "        pos_emb = self.transformer.wpe(pos) # position embeddings of shape (t, n_embd)\n",
    "        x = self.transformer.drop(tok_emb + pos_emb)\n",
    "        for block in self.transformer.h:\n",
    "            x = block(x)\n",
    "        x = self.transformer.ln_f(x)\n",
    "\n",
    "        if targets is not None:\n",
    "            # if we are given some desired targets also calculate the loss\n",
    "            logits = self.lm_head(x)\n",
    "            loss = F.cross_entropy(logits.view(-1, logits.size(-1)), targets.view(-1), ignore_index=-1)\n",
    "        else:\n",
    "            # inference-time mini-optimization: only forward the lm_head on the very last position\n",
    "            logits = self.lm_head(x[:, [-1], :]) # note: using list [-1] to preserve the time dim\n",
    "            loss = None\n",
    "\n",
    "        return logits, loss\n",
    "\n",
    "    def crop_block_size(self, block_size):\n",
    "        # model surgery to decrease the block size if necessary\n",
    "        # e.g. we may load the GPT2 pretrained model checkpoint (block size 1024)\n",
    "        # but want to use a smaller block size for some smaller, simpler model\n",
    "        assert block_size <= self.config.block_size\n",
    "        self.config.block_size = block_size\n",
    "        self.transformer.wpe.weight = nn.Parameter(self.transformer.wpe.weight[:block_size])\n",
    "        for block in self.transformer.h:\n",
    "            if hasattr(block.attn, 'bias'):\n",
    "                block.attn.bias = block.attn.bias[:,:,:block_size,:block_size]\n",
    "\n",
    "    @classmethod\n",
    "    def from_pretrained(cls, model_type, override_args=None):\n",
    "        assert model_type in {'gpt2', 'gpt2-medium', 'gpt2-large', 'gpt2-xl'}\n",
    "        override_args = override_args or {} # default to empty dict\n",
    "        # only dropout can be overridden see more notes below\n",
    "        assert all(k == 'dropout' for k in override_args)\n",
    "        from transformers import GPT2LMHeadModel\n",
    "        print(\"loading weights from pretrained gpt: %s\" % model_type)\n",
    "\n",
    "        # n_layer, n_head and n_embd are determined from model_type\n",
    "        config_args = {\n",
    "            'gpt2':         dict(n_layer=12, n_head=12, n_embd=768),  # 124M params\n",
    "            'gpt2-medium':  dict(n_layer=24, n_head=16, n_embd=1024), # 350M params\n",
    "            'gpt2-large':   dict(n_layer=36, n_head=20, n_embd=1280), # 774M params\n",
    "            'gpt2-xl':      dict(n_layer=48, n_head=25, n_embd=1600), # 1558M params\n",
    "        }[model_type]\n",
    "        print(\"forcing vocab_size=50257, block_size=1024, bias=True\")\n",
    "        config_args['vocab_size'] = 50257 # always 50257 for GPT model checkpoints\n",
    "        config_args['block_size'] = 1024 # always 1024 for GPT model checkpoints\n",
    "        config_args['bias'] = True # always True for GPT model checkpoints\n",
    "        # we can override the dropout rate, if desired\n",
    "        if 'dropout' in override_args:\n",
    "            print(f\"overriding dropout rate to {override_args['dropout']}\")\n",
    "            config_args['dropout'] = override_args['dropout']\n",
    "        # create a from-scratch initialized minGPT model\n",
    "        config = GPTConfig(**config_args)\n",
    "        model = GPT(config)\n",
    "        sd = model.state_dict()\n",
    "        sd_keys = sd.keys()\n",
    "        sd_keys = [k for k in sd_keys if not k.endswith('.attn.bias')] # discard this mask / buffer, not a param\n",
    "\n",
    "        # init a huggingface/transformers model\n",
    "        model_hf = GPT2LMHeadModel.from_pretrained(model_type)\n",
    "        sd_hf = model_hf.state_dict()\n",
    "\n",
    "        # copy while ensuring all of the parameters are aligned and match in names and shapes\n",
    "        sd_keys_hf = sd_hf.keys()\n",
    "        sd_keys_hf = [k for k in sd_keys_hf if not k.endswith('.attn.masked_bias')] # ignore these, just a buffer\n",
    "        sd_keys_hf = [k for k in sd_keys_hf if not k.endswith('.attn.bias')] # same, just the mask (buffer)\n",
    "        transposed = ['attn.c_attn.weight', 'attn.c_proj.weight', 'mlp.c_fc.weight', 'mlp.c_proj.weight']\n",
    "        # basically the openai checkpoints use a \"Conv1D\" module, but we only want to use a vanilla Linear\n",
    "        # this means that we have to transpose these weights when we import them\n",
    "        assert len(sd_keys_hf) == len(sd_keys), f\"mismatched keys: {len(sd_keys_hf)} != {len(sd_keys)}\"\n",
    "        for k in sd_keys_hf:\n",
    "            if any(k.endswith(w) for w in transposed):\n",
    "                # special treatment for the Conv1D weights we need to transpose\n",
    "                assert sd_hf[k].shape[::-1] == sd[k].shape\n",
    "                with torch.no_grad():\n",
    "                    sd[k].copy_(sd_hf[k].t())\n",
    "            else:\n",
    "                # vanilla copy over the other parameters\n",
    "                assert sd_hf[k].shape == sd[k].shape\n",
    "                with torch.no_grad():\n",
    "                    sd[k].copy_(sd_hf[k])\n",
    "\n",
    "        return model\n",
    "\n",
    "    def configure_optimizers(self, weight_decay, learning_rate, betas, device_type):\n",
    "        # start with all of the candidate parameters\n",
    "        param_dict = {pn: p for pn, p in self.named_parameters()}\n",
    "        # filter out those that do not require grad\n",
    "        param_dict = {pn: p for pn, p in param_dict.items() if p.requires_grad}\n",
    "        # create optim groups. Any parameters that is 2D will be weight decayed, otherwise no.\n",
    "        # i.e. all weight tensors in matmuls + embeddings decay, all biases and layernorms don't.\n",
    "        decay_params = [p for n, p in param_dict.items() if p.dim() >= 2]\n",
    "        nodecay_params = [p for n, p in param_dict.items() if p.dim() < 2]\n",
    "        optim_groups = [\n",
    "            {'params': decay_params, 'weight_decay': weight_decay},\n",
    "            {'params': nodecay_params, 'weight_decay': 0.0}\n",
    "        ]\n",
    "        num_decay_params = sum(p.numel() for p in decay_params)\n",
    "        num_nodecay_params = sum(p.numel() for p in nodecay_params)\n",
    "        print(f\"num decayed parameter tensors: {len(decay_params)}, with {num_decay_params:,} parameters\")\n",
    "        print(f\"num non-decayed parameter tensors: {len(nodecay_params)}, with {num_nodecay_params:,} parameters\")\n",
    "        # Create AdamW optimizer and use the fused version if it is available\n",
    "        fused_available = 'fused' in inspect.signature(torch.optim.AdamW).parameters\n",
    "        use_fused = fused_available and device_type == 'cuda'\n",
    "        extra_args = dict(fused=True) if use_fused else dict()\n",
    "        optimizer = torch.optim.AdamW(optim_groups, lr=learning_rate, betas=betas, **extra_args)\n",
    "        print(f\"using fused AdamW: {use_fused}\")\n",
    "\n",
    "        return optimizer\n",
    "\n",
    "    def estimate_mfu(self, fwdbwd_per_iter, dt):\n",
    "        \"\"\" estimate model flops utilization (MFU) in units of A100 bfloat16 peak FLOPS \"\"\"\n",
    "        # first estimate the number of flops we do per iteration.\n",
    "        # see PaLM paper Appendix B as ref: https://arxiv.org/abs/2204.02311\n",
    "        N = self.get_num_params()\n",
    "        cfg = self.config\n",
    "        L, H, Q, T = cfg.n_layer, cfg.n_head, cfg.n_embd//cfg.n_head, cfg.block_size\n",
    "        flops_per_token = 6*N + 12*L*H*Q*T\n",
    "        flops_per_fwdbwd = flops_per_token * T\n",
    "        flops_per_iter = flops_per_fwdbwd * fwdbwd_per_iter\n",
    "        # express our flops throughput as ratio of A100 bfloat16 peak flops\n",
    "        flops_achieved = flops_per_iter * (1.0/dt) # per second\n",
    "        flops_promised = 312e12 # A100 GPU bfloat16 peak flops is 312 TFLOPS\n",
    "        mfu = flops_achieved / flops_promised\n",
    "        return mfu\n",
    "\n",
    "    @torch.no_grad()\n",
    "    def generate(self, idx, max_new_tokens, temperature=1.0, top_k=None):\n",
    "        \"\"\"\n",
    "        Take a conditioning sequence of indices idx (LongTensor of shape (b,t)) and complete\n",
    "        the sequence max_new_tokens times, feeding the predictions back into the model each time.\n",
    "        Most likely you'll want to make sure to be in model.eval() mode of operation for this.\n",
    "        \"\"\"\n",
    "        for _ in range(max_new_tokens):\n",
    "            # if the sequence context is growing too long we must crop it at block_size\n",
    "            idx_cond = idx if idx.size(1) <= self.config.block_size else idx[:, -self.config.block_size:]\n",
    "            # forward the model to get the logits for the index in the sequence\n",
    "            logits, _ = self(idx_cond)\n",
    "            # pluck the logits at the final step and scale by desired temperature\n",
    "            logits = logits[:, -1, :] / temperature\n",
    "            # optionally crop the logits to only the top k options\n",
    "            if top_k is not None:\n",
    "                v, _ = torch.topk(logits, min(top_k, logits.size(-1)))\n",
    "                logits[logits < v[:, [-1]]] = -float('Inf')\n",
    "            # apply softmax to convert logits to (normalized) probabilities\n",
    "            probs = F.softmax(logits, dim=-1)\n",
    "            # sample from the distribution\n",
    "            idx_next = torch.multinomial(probs, num_samples=1)\n",
    "            # append sampled index to the running sequence and continue\n",
    "            idx = torch.cat((idx, idx_next), dim=1)\n",
    "\n",
    "        return idx"
   ]
  },
  {
   "cell_type": "markdown",
   "metadata": {},
   "source": [
    "Doing a first-pass read on both the `__init__()` and `forward()` methods,\n",
    "you should see that the GPT model has the following components (ignoring\n",
    "dropout):\n",
    "\n",
    "- `transformer.wte`, which is an embedding layer that maps tokens\n",
    "  to a vector embedding.\n",
    "- `transformer.wtp`, is also an embedding layer, but this one maps\n",
    "  **token position indices** to a vector embedding. This index is required to\n",
    "  inject position information into the embedding---otherwise transformer computation\n",
    "  would be invariant to the reordering of input tokens (i.e., the computation would not\n",
    "  change if the order of the input tokens change).\n",
    "  Since the length of a sequence is at most `block_size`, so there \n",
    "  are at most `block_size` indices to embed.\n",
    "- A sequence of `Block`s --- to be defined. The output from the previous block \n",
    "  is taken as the input of the next block.\n",
    "- A final `LayerNorm` layer after the last block. This layer is also yet to be \n",
    "  defined, and the name suggests that this is a normalization layer (similar to\n",
    "  batch normalization) that does *not* change the shape of the features\n",
    "  (i.e., the output shape is the same as the input shape).\n",
    "- `lm_head`, which is a linear layer that maps embeddings back to a distribution\n",
    "  over the possible otuput tokens.\n",
    "\n",
    "**Task**: Compute the number of parameters in the `wte` embedding layer of the GPT2 model. (For these and other questions that specifically mention GPT2 model,\n",
    "please use the config settings above and provide an actual numbers.)"
   ]
  },
  {
   "cell_type": "code",
   "execution_count": null,
   "metadata": {},
   "outputs": [],
   "source": [
    "# TODO: Perform this computation by hand."
   ]
  },
  {
   "cell_type": "markdown",
   "metadata": {},
   "source": [
    "**Task**: Compute the number of parameters in the `wtp` embedding layer of the GPT2 model."
   ]
  },
  {
   "cell_type": "code",
   "execution_count": null,
   "metadata": {},
   "outputs": [],
   "source": [
    "# TODO: Perform this computation by hand."
   ]
  },
  {
   "cell_type": "markdown",
   "metadata": {},
   "source": [
    "**Graded Task**: Explain why the linear layer `lm_head` has the same number\n",
    "of parameters as the embedding layer `wte`. Provide an intuitive explanation\n",
    "for why **weight tying**---i.e., using the same set of weights for both layers,\n",
    "just transposed---would be reasonable. The weight tying is done to reduce the\n",
    "total number of parameters in the GPT2 model."
   ]
  },
  {
   "cell_type": "code",
   "execution_count": null,
   "metadata": {},
   "outputs": [],
   "source": [
    "# TODO: Include your explanations here"
   ]
  },
  {
   "cell_type": "markdown",
   "metadata": {},
   "source": [
    "**Task**: Explain why it is that in the `forward()` method, the tensor `tok_emb` has\n",
    "the shape `(b, t, n_embd)`, where `b` is the batch size, `t` is the sequence\n",
    "length (max `block_size`), and `n_embd` is the embedding size."
   ]
  },
  {
   "cell_type": "code",
   "execution_count": null,
   "metadata": {},
   "outputs": [],
   "source": [
    "# TODO: Include your explanations here"
   ]
  },
  {
   "cell_type": "markdown",
   "metadata": {},
   "source": [
    "**Task**: Notice that in the `forward()` method, the tensor `pos_emb` has\n",
    "the shape `(t, n_embd)`. In other words, we embed the position only once for\n",
    "each batch, and then rely on PyTorch tensor broadcasting to perform the\n",
    "addition `tok_emb + pos_emb`. Why is this ok?"
   ]
  },
  {
   "cell_type": "code",
   "execution_count": null,
   "metadata": {},
   "outputs": [],
   "source": [
    "# TODO: Include your explanations here"
   ]
  },
  {
   "cell_type": "markdown",
   "metadata": {},
   "source": [
    "**Task**: What is the shape of `tok_emb + pos_emb`  in the `forward()` method\n",
    "in a GPT2 model?\n",
    "This question is not trivial because the two addend tensors are not of the \n",
    "same shape.\n",
    "Thus, the addition uses broadcasting. PyTorch broadcasting works similarly to\n",
    "that of Numpy's.  You can look up \"PyTorch broadcasting\" to find resources\n",
    "related to how broadcasting works."
   ]
  },
  {
   "cell_type": "code",
   "execution_count": null,
   "metadata": {},
   "outputs": [],
   "source": [
    "# TODO: Perform this computation by hand."
   ]
  },
  {
   "cell_type": "markdown",
   "metadata": {},
   "source": [
    "**Graded Task**: What is the shape of `x`  in the `forward()` method? This is an\n",
    "important shape to remember, since it is the shape of the feature map consistent\n",
    "in most of the transformer network."
   ]
  },
  {
   "cell_type": "code",
   "execution_count": null,
   "metadata": {},
   "outputs": [],
   "source": [
    "# TODO: Perform this computation by hand."
   ]
  },
  {
   "cell_type": "markdown",
   "metadata": {},
   "source": [
    "**Task**: What is the shape of `logits`  in the `forward()` method?"
   ]
  },
  {
   "cell_type": "code",
   "execution_count": null,
   "metadata": {},
   "outputs": [],
   "source": [
    "# TODO: Perform this computation by hand."
   ]
  },
  {
   "cell_type": "markdown",
   "metadata": {},
   "source": [
    "These questions above should give you a clear idea of the main components\n",
    "of the transformer model, the expected input and output tensor shapes, and\n",
    "the shapes of intermediate tensors. With this in mind, let's explore\n",
    "the two modules referenced by `GPT`.\n",
    "\n",
    "We'll start with the simple one. The LayerNorm layer is intended to be\n",
    "similar to [PyTorch's LayerNorm layer](https://pytorch.org/docs/stable/generated/torch.nn.LayerNorm.html#torch.nn.LayerNorm)."
   ]
  },
  {
   "cell_type": "code",
   "execution_count": null,
   "metadata": {},
   "outputs": [],
   "source": [
    "class LayerNorm(nn.Module):\n",
    "    \"\"\" LayerNorm but with an optional bias. PyTorch doesn't support simply bias=False \"\"\"\n",
    "\n",
    "    def __init__(self, ndim, bias):\n",
    "        super().__init__()\n",
    "        self.weight = nn.Parameter(torch.ones(ndim))\n",
    "        self.bias = nn.Parameter(torch.zeros(ndim)) if bias else None\n",
    "\n",
    "    def forward(self, input):\n",
    "        return F.layer_norm(input, self.weight.shape, self.weight, self.bias, 1e-5)"
   ]
  },
  {
   "cell_type": "markdown",
   "metadata": {},
   "source": [
    "**Task**: How many parameters are in a LayerNorm layer?"
   ]
  },
  {
   "cell_type": "code",
   "execution_count": null,
   "metadata": {},
   "outputs": [],
   "source": [
    "# TODO: Perform this computation by hand."
   ]
  },
  {
   "cell_type": "markdown",
   "metadata": {},
   "source": [
    "**Task**: Read the description of the LayerNorm layer in PyTorch at\n",
    "[https://pytorch.org/docs/stable/generated/torch.nn.LayerNorm.html#torch.nn.LayerNorm](https://pytorch.org/docs/stable/generated/torch.nn.LayerNorm.html#torch.nn.LayerNorm). Then, explain how layer normalization differs from batch normalization."
   ]
  },
  {
   "cell_type": "code",
   "execution_count": null,
   "metadata": {},
   "outputs": [],
   "source": [
    "# TODO: Perform this computation by hand."
   ]
  },
  {
   "cell_type": "markdown",
   "metadata": {},
   "source": [
    "Let's move on to the `Block` module. Recall that here are several `Block`\n",
    "modules in a GPT model, and the output of one module is the input of the next."
   ]
  },
  {
   "cell_type": "code",
   "execution_count": null,
   "metadata": {},
   "outputs": [],
   "source": [
    "class Block(nn.Module):\n",
    "\n",
    "    def __init__(self, config):\n",
    "        super().__init__()\n",
    "        self.ln_1 = LayerNorm(config.n_embd, bias=config.bias)\n",
    "        self.attn = CausalSelfAttention(config)\n",
    "        self.ln_2 = LayerNorm(config.n_embd, bias=config.bias)\n",
    "        self.mlp = MLP(config)\n",
    "\n",
    "    def forward(self, x):\n",
    "        x = x + self.attn(self.ln_1(x))\n",
    "        x = x + self.mlp(self.ln_2(x))\n",
    "        return x"
   ]
  },
  {
   "cell_type": "markdown",
   "metadata": {},
   "source": [
    "This module is actually quite succinct, but it also refers to modules that are\n",
    "yet to be defined. It consists of:\n",
    "\n",
    "- A layer normalization layer.\n",
    "- A **causal self attention** layer (to be defined). This is the heart of the GPT model.\n",
    "- Another layer normalization layer.\n",
    "- An MLP layer (to be defined). \n",
    "\n",
    "**Task**: Judging by the `Block.forward()` method above, why must\n",
    "the `CausalSelfAttention` and the `MLP` layers \n",
    "**preserve the shape of the features**?"
   ]
  },
  {
   "cell_type": "code",
   "execution_count": null,
   "metadata": {},
   "outputs": [],
   "source": [
    "# TODO: Include your explanation here."
   ]
  },
  {
   "cell_type": "markdown",
   "metadata": {},
   "source": [
    "**Task**: How might the *skip-connections* in the `Block.forward()` method\n",
    "help with gradient flow? An intuitive explanation is sufficient here."
   ]
  },
  {
   "cell_type": "code",
   "execution_count": null,
   "metadata": {},
   "outputs": [],
   "source": [
    "# TODO: Include your explanation here."
   ]
  },
  {
   "cell_type": "markdown",
   "metadata": {},
   "source": [
    "With the GPT2 `Block` in mind, we will define the `MLP` module next."
   ]
  },
  {
   "cell_type": "code",
   "execution_count": null,
   "metadata": {},
   "outputs": [],
   "source": [
    "class MLP(nn.Module):\n",
    "\n",
    "    def __init__(self, config):\n",
    "        super().__init__()\n",
    "        self.c_fc    = nn.Linear(config.n_embd, 4 * config.n_embd, bias=config.bias)\n",
    "        self.gelu    = nn.GELU()\n",
    "        self.c_proj  = nn.Linear(4 * config.n_embd, config.n_embd, bias=config.bias)\n",
    "        self.dropout = nn.Dropout(config.dropout)\n",
    "\n",
    "    def forward(self, x):\n",
    "        x = self.c_fc(x)\n",
    "        x = self.gelu(x)\n",
    "        x = self.c_proj(x)\n",
    "        x = self.dropout(x)\n",
    "        return x"
   ]
  },
  {
   "cell_type": "markdown",
   "metadata": {},
   "source": [
    "Immediately, we see that this MLP consists of two linear layers.\n",
    "The activation function used between these two layers is the \n",
    "[Gaussian Error Linear Units function](https://pytorch.org/docs/stable/generated/torch.nn.GELU.html). You can read more about it in \n",
    "[this paper](https://arxiv.org/pdf/1606.08415.pdf).\n",
    "\n",
    "**Task**: Compute the number of parameters in a `MLP` layer in a GPT2 model."
   ]
  },
  {
   "cell_type": "code",
   "execution_count": null,
   "metadata": {},
   "outputs": [],
   "source": [
    "# TODO: Perform this computation by hand"
   ]
  },
  {
   "cell_type": "markdown",
   "metadata": {},
   "source": [
    "**Task**: Recall that the input of the MLP layer is a tensor with the usual\n",
    "dimension computed earlier.\n",
    "What is the shape of `self.c_fc(x)` in the `MLP.forward()` method?\n",
    "What about the shape of the return value in this method?"
   ]
  },
  {
   "cell_type": "code",
   "execution_count": null,
   "metadata": {},
   "outputs": [],
   "source": [
    "# TODO: Perform this computation by hand"
   ]
  },
  {
   "cell_type": "markdown",
   "metadata": {},
   "source": [
    "**Task**: Explain why this MLP layer is also called the \"pointwise feed forward\"\n",
    "layer.  (Hint: a \"point\" here refers to a single token or position in the input\n",
    "sequence)"
   ]
  },
  {
   "cell_type": "code",
   "execution_count": null,
   "metadata": {},
   "outputs": [],
   "source": [
    "# TODO: Include your explanation here."
   ]
  },
  {
   "cell_type": "markdown",
   "metadata": {},
   "source": [
    "Finally, let's study the definition of the `CausalSelfAttention` layer.\n",
    "This is the heart of the GPT model and is also the most complex module.\n",
    "\n",
    "**Task**: Begin with a first pass read of the `__init__()`\n",
    "and `forward()` methods of `CausalSelfAttention` module.\n",
    "We will then trace through the case where `self.flash` is `False`, since\n",
    "the code provides more detailed explanation for the computation steps."
   ]
  },
  {
   "cell_type": "code",
   "execution_count": null,
   "metadata": {},
   "outputs": [],
   "source": [
    "class CausalSelfAttention(nn.Module):\n",
    "\n",
    "    def __init__(self, config):\n",
    "        super().__init__()\n",
    "        assert config.n_embd % config.n_head == 0\n",
    "        # key, query, value projections for all heads, but in a batch\n",
    "        self.c_attn = nn.Linear(config.n_embd, 3 * config.n_embd, bias=config.bias)\n",
    "        # output projection\n",
    "        self.c_proj = nn.Linear(config.n_embd, config.n_embd, bias=config.bias)\n",
    "        # regularization\n",
    "        self.attn_dropout = nn.Dropout(config.dropout)\n",
    "        self.resid_dropout = nn.Dropout(config.dropout)\n",
    "        self.n_head = config.n_head\n",
    "        self.n_embd = config.n_embd\n",
    "        self.dropout = config.dropout\n",
    "        # flash attention make GPU go brrrrr but support is only in PyTorch >= 2.0\n",
    "        self.flash = hasattr(torch.nn.functional, 'scaled_dot_product_attention')\n",
    "        if not self.flash:\n",
    "            print(\"WARNING: using slow attention. Flash Attention requires PyTorch >= 2.0\")\n",
    "            # causal mask to ensure that attention is only applied to the left in the input sequence\n",
    "            self.register_buffer(\"bias\", torch.tril(torch.ones(config.block_size, config.block_size))\n",
    "                                        .view(1, 1, config.block_size, config.block_size))\n",
    "\n",
    "    def forward(self, x):\n",
    "        B, T, C = x.size() # batch size, sequence length, embedding dimensionality (n_embd)\n",
    "\n",
    "        # calculate query, key, values for all heads in batch and move head forward to be the batch dim\n",
    "        q, k, v  = self.c_attn(x).split(self.n_embd, dim=2)\n",
    "        k = k.view(B, T, self.n_head, C // self.n_head).transpose(1, 2) # (B, nh, T, hs)\n",
    "        q = q.view(B, T, self.n_head, C // self.n_head).transpose(1, 2) # (B, nh, T, hs)\n",
    "        v = v.view(B, T, self.n_head, C // self.n_head).transpose(1, 2) # (B, nh, T, hs)\n",
    "\n",
    "        # causal self-attention; Self-attend: (B, nh, T, hs) x (B, nh, hs, T) -> (B, nh, T, T)\n",
    "        if self.flash:\n",
    "            # efficient attention using Flash Attention CUDA kernels\n",
    "            y = torch.nn.functional.scaled_dot_product_attention(q, k, v, attn_mask=None, dropout_p=self.dropout if self.training else 0, is_causal=True)\n",
    "        else:\n",
    "            # manual implementation of attention\n",
    "            att = (q @ k.transpose(-2, -1)) * (1.0 / math.sqrt(k.size(-1)))\n",
    "            att = att.masked_fill(self.bias[:,:,:T,:T] == 0, float('-inf'))\n",
    "            att = F.softmax(att, dim=-1)\n",
    "            att = self.attn_dropout(att)\n",
    "            y = att @ v # (B, nh, T, T) x (B, nh, T, hs) -> (B, nh, T, hs)\n",
    "        y = y.transpose(1, 2).contiguous().view(B, T, C) # re-assemble all head outputs side by side\n",
    "\n",
    "        # output projection\n",
    "        y = self.resid_dropout(self.c_proj(y))\n",
    "        return y"
   ]
  },
  {
   "cell_type": "markdown",
   "metadata": {},
   "source": [
    "**Task**: Compute the number of parameters in the `c_attn` layer in a GPT2 model."
   ]
  },
  {
   "cell_type": "code",
   "execution_count": null,
   "metadata": {},
   "outputs": [],
   "source": [
    "# TODO: Perform this computation by hand"
   ]
  },
  {
   "cell_type": "markdown",
   "metadata": {},
   "source": [
    "**Task**: Like the comment in the `__init__()` method suggests,\n",
    "we can think of the `c_attn` layer as a combination of three\n",
    "`nn.Linear(config.n_embd, config.n_embd, bias=config.bias)` modules.\n",
    "These three networks projects the input embedding into three parts:\n",
    "`q` (for *query*), `k` (for *key*), and `v` (for *value).\n",
    "\n",
    "What is the shape of `self.c_attn(x)` in the `forward()` method?\n",
    "Use this answer to show that \n",
    "`self.c_attn(x).split(self.n_embd, dim=2)` gives us the \n",
    "same `q, k, v` values had we used three separate networks."
   ]
  },
  {
   "cell_type": "code",
   "execution_count": null,
   "metadata": {},
   "outputs": [],
   "source": [
    "# TODO: Perform the computation by hand, then include your explaination."
   ]
  },
  {
   "cell_type": "markdown",
   "metadata": {},
   "source": [
    "**Task**: Explain why `config.n_head` must be a factor of `config.n_embd`."
   ]
  },
  {
   "cell_type": "code",
   "execution_count": null,
   "metadata": {},
   "outputs": [],
   "source": [
    "# TODO: Your explanation goes here."
   ]
  },
  {
   "cell_type": "markdown",
   "metadata": {},
   "source": [
    "We will explore the manual implementation of attention in the next few\n",
    "questions. For this part, it helps to first consider the\n",
    "case where the batch size `B=1`, and `n_head=1`. For a larger batch size\n",
    "and number of heads, the attention computation is repeated for every\n",
    "sequence in the batch and every attention head. Thus, the shapes of\n",
    "the three important tensors are:\n",
    "\n",
    "- `q`: (1, 1, T, n_embd)\n",
    "- `k`: (1, 1, T, n_embd)\n",
    "- `v`: (1, 1, T, n_embd)\n",
    "\n",
    "Like discussed in the lectures, you can think of the attention mechanism\n",
    "as a \"soft\" dictionary lookup. Instead of obtaining a single key/values for\n",
    "a given query,\n",
    "attention gives us a *probability distribution over the possible keys/values*.\n",
    "We can then use this probability distribution to obtain a weighted sum\n",
    "(akin to an expected value) of the lookup value.\n",
    "Moreover, instead of having strings, numbers, or other objects as keys/values,\n",
    "a key is a vector (of shape `n_embd`), and a value is also a vector \n",
    "(of shape `n_embd`). This is consistent with what we have seen in\n",
    "neural networks---everything is represented using a vector!\n",
    "The tensors `k` and `v` contains these keys and values, and there is one \n",
    "vector at every token position. The tensor `q` contains the **queries**---\n",
    "analogues to the item (a possible key) that we are searching for in a regular\n",
    "dictionary lookup. There is also one query vector for each token position:\n",
    "for each token position, we want to look up a corresponding (weighted sum of) values \n",
    "that contains information pertinent to understanding the meaning of the token\n",
    "in this position.\n",
    "\n",
    "With that in mind, let's go through the mathematical computations.\n",
    "\n",
    "**Graded Task**: What is the shape of `(q @ k.transpose(-2, -1))`?\n",
    "For this and the following questions, assume that `q`, `k`, `v` have the\n",
    "shape above, where we have assumed that batch size and num heads are both 1."
   ]
  },
  {
   "cell_type": "code",
   "execution_count": null,
   "metadata": {},
   "outputs": [],
   "source": [
    "# TODO: Perform this computation by hand"
   ]
  },
  {
   "cell_type": "markdown",
   "metadata": {},
   "source": [
    "**Task**: What is the value of math.sqrt(k.size(-1))?"
   ]
  },
  {
   "cell_type": "code",
   "execution_count": null,
   "metadata": {},
   "outputs": [],
   "source": [
    "# TODO: Perform this computation by hand"
   ]
  },
  {
   "cell_type": "markdown",
   "metadata": {},
   "source": [
    "**Task**: Argue that the line `att = (q @ k.transpose(-2, -1)) * (1.0 / math.sqrt(k.size(-1)))`  is computing a \"distance\" or \"similarity\" metric between the query at each token position and the key at each token position."
   ]
  },
  {
   "cell_type": "code",
   "execution_count": null,
   "metadata": {},
   "outputs": [],
   "source": [
    "# TODO: Your explanation goes here"
   ]
  },
  {
   "cell_type": "markdown",
   "metadata": {},
   "source": [
    "The following line of code references a `self.bias` parameter, which is \n",
    "defined in the last line of the `__init__()` method. Since `block_size` is\n",
    "quite large, we can understand what `self.bias` looks like by running a\n",
    "similar piece of code below with a smaller `block_size` value."
   ]
  },
  {
   "cell_type": "code",
   "execution_count": null,
   "metadata": {},
   "outputs": [],
   "source": [
    "bias = torch.tril(torch.ones(5, 5)).view(1, 1, 5, 5)\n",
    "bias"
   ]
  },
  {
   "cell_type": "markdown",
   "metadata": {},
   "source": [
    "**Task**: Explain what the above code returns. Explain how PyTorch\n",
    "broadcasting may be useful for computations involving this tensor---i.e.,\n",
    "why is it okay that the first two dimensions of this tensor are 1,\n",
    "thus assuming that batch size = 1 and num heads = 1?"
   ]
  },
  {
   "cell_type": "code",
   "execution_count": null,
   "metadata": {},
   "outputs": [],
   "source": [
    "# TODO: Your explanation goes here"
   ]
  },
  {
   "cell_type": "markdown",
   "metadata": {},
   "source": [
    "**Task**: We will use a similar technique of running a modified version\n",
    "of the next two lines of code in the `forward()` method to better understand\n",
    "what it does.  Run the below code, and explain what the `masked_fill`\n",
    "function does."
   ]
  },
  {
   "cell_type": "code",
   "execution_count": null,
   "metadata": {},
   "outputs": [],
   "source": [
    "attn = torch.rand(1, 1, 5, 5)\n",
    "attn"
   ]
  },
  {
   "cell_type": "code",
   "execution_count": null,
   "metadata": {},
   "outputs": [],
   "source": [
    "masked = attn.masked_fill(bias[:,:,:5, :5] == 0, float('-inf'))\n",
    "masked"
   ]
  },
  {
   "cell_type": "code",
   "execution_count": null,
   "metadata": {},
   "outputs": [],
   "source": [
    "out = F.softmax(masked, dim=-1)\n",
    "out"
   ]
  },
  {
   "cell_type": "code",
   "execution_count": null,
   "metadata": {},
   "outputs": [],
   "source": [
    "# Your explanation goes here"
   ]
  },
  {
   "cell_type": "markdown",
   "metadata": {},
   "source": [
    "**Graded Task**: This masking is in place so that query tokens cannot \n",
    "\"look up\" key/values that at a position with a larger index.\n",
    "Explain why this limitation means our GPT model cannot use information\n",
    "in subsequent/later tokens to form an understand of what what is in\n",
    "the current token.\n",
    "(Note: this masking is the \"Causal\" part of Causal Self-Attention!)"
   ]
  },
  {
   "cell_type": "code",
   "execution_count": null,
   "metadata": {},
   "outputs": [],
   "source": [
    "# Your explanation goes here"
   ]
  },
  {
   "cell_type": "markdown",
   "metadata": {},
   "source": [
    "**Task**: Your answer above explains which positions in the \n",
    "`out` tensor need to be set to zero. Explain why setting the\n",
    "corresponding value of pre-softmax tensor `masked` to `-inf`\n",
    "is necessary. Why can't we set the value of `masked` to 0 \n",
    "in these positions?"
   ]
  },
  {
   "cell_type": "code",
   "execution_count": null,
   "metadata": {},
   "outputs": [],
   "source": [
    "# Your argument goes here"
   ]
  },
  {
   "cell_type": "markdown",
   "metadata": {},
   "source": [
    "**Task**: Argue that `out[0,0,0,0]` must always be 1."
   ]
  },
  {
   "cell_type": "code",
   "execution_count": null,
   "metadata": {},
   "outputs": [],
   "source": [
    "# Your argument goes here"
   ]
  },
  {
   "cell_type": "markdown",
   "metadata": {},
   "source": [
    "**Task**: Now, `out` in our example is akin to the final value of `att`\n",
    "in the `CausalSelfAttention.forward()` method. Explain why\n",
    "the operation `y = att @ v` computes a weighted sum of values at each\n",
    "token position, where the weights are defined by `att`."
   ]
  },
  {
   "cell_type": "code",
   "execution_count": null,
   "metadata": {},
   "outputs": [],
   "source": [
    "# Your explanation goes here"
   ]
  },
  {
   "cell_type": "markdown",
   "metadata": {},
   "source": [
    "**Task**: The above explanation pertain to a single attention head.\n",
    "Explain why using multiple attention heads allows a token position to\n",
    "consider information from various other positions. Alternatively,\n",
    "explain why using multiple heads might help the network learn different\n",
    "*ways* in which the meaning at one token could depend on other tokens."
   ]
  },
  {
   "cell_type": "code",
   "execution_count": null,
   "metadata": {},
   "outputs": [],
   "source": [
    "# Your explanation goes here"
   ]
  },
  {
   "cell_type": "markdown",
   "metadata": {},
   "source": [
    "**Graded Task**: Compute the total number of parameters in a GPT2 model\n",
    "by computing the following. Please use actual numbers in each case, assuming\n",
    "the GPT2 configuration from above.\n",
    "\n",
    "1. The number of parameters in a `CausalSelfAttention` model.\n",
    "2. The number of parameters in a `MLP` module.\n",
    "3. The number of parameters in a `Block` module.\n",
    "4. The number of parameters in all `Block` modules in a GPT2 model.\n",
    "5. The number of parameters in the `wte` embedding layer in a GPT2 model.\n",
    "6. The total number of parameters in a GPT2 model.\n",
    "\n",
    "Please perform the computation either by hand (and show your work),\n",
    "or with a function that clearly shows the computations.\n",
    "\n",
    "You should see that approximately 30% of the GPT2 weight comes from\n",
    "the `wte` embedding layer. This is why weight tying is used in\n",
    "the `GPT` module!"
   ]
  },
  {
   "cell_type": "code",
   "execution_count": null,
   "metadata": {},
   "outputs": [],
   "source": [
    "# TODO: Your work goes here\n"
   ]
  },
  {
   "cell_type": "markdown",
   "metadata": {},
   "source": [
    "## Part 3. Training\n",
    "\n",
    "We are ready to finetune our GPT2 model on the \"Friends\" data set!\n",
    "There is no graded task in this section since training this model can\n",
    "take some time to achieve reasonable performance.\n",
    "\n",
    "To run this part of the lab, you will need to use a GPU. On Google Colab, you can select\n",
    "a session with a GPU by navigating to the \"Runtime\" menu, selecting \n",
    "\"Change runtime type\", and then selecting the \"T4 GPU\" option.\n",
    "\n",
    "We will set up a `config` object to make it easier to store\n",
    "and use configs."
   ]
  },
  {
   "cell_type": "code",
   "execution_count": null,
   "metadata": {},
   "outputs": [],
   "source": [
    "import easydict\n",
    "import math\n",
    "import time\n",
    "\n",
    "finetune_config_dict = {\n",
    "  'gradient_accumulation_steps': 32,\n",
    "  'block_size': 256,\n",
    "  'dropout': 0.2,\n",
    "  'bias': False,\n",
    "  'learning_rate': 3e-5,\n",
    "  'weight_decay': 0.1,\n",
    "  'beta1': 0.9,\n",
    "  'beta2': 0.99,\n",
    "  'grad_clip': 1.0,\n",
    "  'decay_lr': False,\n",
    "  'warmup_iters': 100,\n",
    "  'lr_decay_iters': 5000,\n",
    "  'min_lr': 0.0001}\n",
    "config = easydict.EasyDict(finetune_config_dict)"
   ]
  },
  {
   "cell_type": "markdown",
   "metadata": {},
   "source": [
    "First, we need to load the GPT2 weights."
   ]
  },
  {
   "cell_type": "code",
   "execution_count": null,
   "metadata": {},
   "outputs": [],
   "source": [
    "# initialize from OpenAI GPT-2 weights\n",
    "override_args = dict(dropout=config.dropout)\n",
    "model = GPT.from_pretrained('gpt2', override_args)\n",
    "\n",
    "# crop down the model block size using model surgery\n",
    "if config.block_size < model.config.block_size:\n",
    "    model.crop_block_size(config.block_size)\n",
    "\n",
    "device = 'cuda' if torch.cuda.is_available()  else 'cpu'\n",
    "model.to(device)"
   ]
  },
  {
   "cell_type": "markdown",
   "metadata": {},
   "source": [
    "**Task**: Explain why reducing the `block_size` do not significantly\n",
    "reduce the number of parameters, but *does* significantly reduce\n",
    "memory usage."
   ]
  },
  {
   "cell_type": "code",
   "execution_count": null,
   "metadata": {},
   "outputs": [],
   "source": [
    "# TODO: Include your explanation here"
   ]
  },
  {
   "cell_type": "markdown",
   "metadata": {},
   "source": [
    "There are some additional helpers to improve training."
   ]
  },
  {
   "cell_type": "code",
   "execution_count": null,
   "metadata": {},
   "outputs": [],
   "source": [
    "# initialize a GradScaler. If enabled=False scaler is a no-op\n",
    "dtype = 'bfloat16' if torch.cuda.is_available() and torch.cuda.is_bf16_supported() else 'float16'\n",
    "ptdtype = {'float32': torch.float32, 'bfloat16': torch.bfloat16, 'float16': torch.float16}[dtype]\n",
    "ctx = nullcontext() if device == 'cpu' else torch.amp.autocast(device_type=device, dtype=ptdtype)\n",
    "scaler = torch.cuda.amp.GradScaler(enabled=(dtype == 'float16'))\n",
    "\n",
    "# learning rate decay scheduler (cosine with warmup)\n",
    "def get_lr(config, it):\n",
    "    # 1) linear warmup for warmup_iters steps\n",
    "    if it < config.warmup_iters:\n",
    "        return config.learning_rate * it / config.warmup_iters\n",
    "    # 2) if it > lr_decay_iters, return min learning rate\n",
    "    if it > config.lr_decay_iters:\n",
    "        return config.min_lr\n",
    "    # 3) in between, use cosine decay down to min learning rate\n",
    "    decay_ratio = (it - config.warmup_iters) / (config.lr_decay_iters - config.warmup_iters)\n",
    "    assert 0 <= decay_ratio <= 1\n",
    "    coeff = 0.5 * (1.0 + math.cos(math.pi * decay_ratio)) # coeff ranges 0..1\n",
    "    return config.min_lr + coeff * (config.learning_rate - config.min_lr)\n",
    "\n",
    "# helps estimate an arbitrarily accurate loss over either split using many batches\n",
    "@torch.no_grad()\n",
    "def estimate_loss(model, train_dataset, val_dataset, block_size):\n",
    "    out = {}\n",
    "    model.eval()\n",
    "    for split in ['train', 'val']:\n",
    "        losses = torch.zeros(eval_iters)\n",
    "        dataset = train_dataset if split == 'train' else val_dataset\n",
    "        for k in range(eval_iters):\n",
    "            X, Y = get_batch(dataset, block_size, batch_size, device)\n",
    "            with ctx:\n",
    "                logits, loss = model(X, Y)\n",
    "            losses[k] = loss.item()\n",
    "        out[split] = losses.mean()\n",
    "    model.train()\n",
    "    return out"
   ]
  },
  {
   "cell_type": "markdown",
   "metadata": {},
   "source": [
    "Now we can begin the training loop. You may need to increase `max_iter`\n",
    "to obtain good results."
   ]
  },
  {
   "cell_type": "code",
   "execution_count": null,
   "metadata": {},
   "outputs": [],
   "source": [
    "iter_num = 0\n",
    "best_val_loss = 1e9\n",
    "eval_interval = 10\n",
    "log_interval = 10\n",
    "eval_iters = 40\n",
    "max_iters = 500\n",
    "batch_size = 1\n",
    "\n",
    "# optimizer\n",
    "optimizer = model.configure_optimizers(config.weight_decay, config.learning_rate,\n",
    "   (config.beta1, config.beta2), device)\n",
    "\n",
    "# training loop\n",
    "X, Y = get_batch(train_data, config.block_size, batch_size, device) # fetch the very first batch\n",
    "t0 = time.time()\n",
    "local_iter_num = 0 # number of iterations in the lifetime of this process\n",
    "raw_model = model # unwrap DDP container if needed\n",
    "running_mfu = -1.0\n",
    "while True:\n",
    "    # determine and set the learning rate for this iteration\n",
    "    lr = get_lr(config, iter_num) if config.decay_lr else config.learning_rate\n",
    "    for param_group in optimizer.param_groups:\n",
    "        param_group['lr'] = lr\n",
    "\n",
    "    # evaluate the loss on train/val sets and write checkpoints\n",
    "    if iter_num % eval_interval == 0:\n",
    "        losses = estimate_loss(model, train_data, val_data, config.block_size)\n",
    "        print(f\"step {iter_num}: train loss {losses['train']:.4f}, val loss {losses['val']:.4f}\")\n",
    "\n",
    "    # forward backward update, with optional gradient accumulation to simulate larger batch size\n",
    "    # and using the GradScaler if data type is float16\n",
    "    for micro_step in range(config.gradient_accumulation_steps):\n",
    "        with ctx:\n",
    "            logits, loss = model(X, Y)\n",
    "            loss = loss / config.gradient_accumulation_steps # scale the loss to account for gradient accumulation\n",
    "        # immediately async prefetch next batch while model is doing the forward pass on the GPU\n",
    "        X, Y = get_batch(train_data, config.block_size, batch_size, device)\n",
    "        # backward pass, with gradient scaling if training in fp16\n",
    "        scaler.scale(loss).backward()\n",
    "\n",
    "    # clip the gradient\n",
    "    if config.grad_clip != 0.0:\n",
    "        scaler.unscale_(optimizer)\n",
    "        torch.nn.utils.clip_grad_norm_(model.parameters(), config.grad_clip)\n",
    "\n",
    "    # step the optimizer and scaler if training in fp16\n",
    "    scaler.step(optimizer)\n",
    "    scaler.update()\n",
    "\n",
    "    # flush the gradients as soon as we can, no need for this memory anymore\n",
    "    optimizer.zero_grad(set_to_none=True)\n",
    "\n",
    "    # timing and logging\n",
    "    t1 = time.time()\n",
    "    dt = t1 - t0\n",
    "    t0 = t1\n",
    "    if iter_num % log_interval == 0:\n",
    "        # get loss as float. note: this is a CPU-GPU sync point\n",
    "        # scale up to undo the division above, approximating the true total loss (exact would have been a sum)\n",
    "        lossf = loss.item() * config.gradient_accumulation_steps\n",
    "        if local_iter_num >= 5: # let the training loop settle a bit\n",
    "            mfu = raw_model.estimate_mfu(batch_size * config.gradient_accumulation_steps, dt)\n",
    "            running_mfu = mfu if running_mfu == -1.0 else 0.9*running_mfu + 0.1*mfu\n",
    "        print(f\"iter {iter_num}: loss {lossf:.4f}, time {dt*1000:.2f}ms, mfu {running_mfu*100:.2f}%\")\n",
    "\n",
    "    iter_num += 1\n",
    "    local_iter_num += 1\n",
    "\n",
    "    # termination conditions\n",
    "    if iter_num > max_iters:\n",
    "        break"
   ]
  },
  {
   "cell_type": "markdown",
   "metadata": {},
   "source": [
    "Here is some code you can use to generate a sequence using the fine-tuned\n",
    "GPT2 model."
   ]
  },
  {
   "cell_type": "code",
   "execution_count": null,
   "metadata": {},
   "outputs": [],
   "source": [
    "init_from = 'resume' # either 'resume' (from an out_dir) or a gpt2 variant (e.g. 'gpt2-xl')\n",
    "out_dir = 'out' # ignored if init_from is not 'resume'\n",
    "start = \"\\n\" # or \"<|endoftext|>\" or etc. Can also specify a file, use as: \"FILE:prompt.txt\"\n",
    "num_samples = 10 # number of samples to draw\n",
    "max_new_tokens = 500 # number of tokens generated in each sample\n",
    "temperature = 0.8 # 1.0 = no change, < 1.0 = less random, > 1.0 = more random, in predictions\n",
    "top_k = 200 # retain only the top_k most likely tokens, clamp others to have 0 probability\n",
    "\n",
    "\n",
    "enc = tiktoken.get_encoding(\"gpt2\")\n",
    "encode = lambda s: enc.encode(s, allowed_special={\"<|endoftext|>\"})\n",
    "decode = lambda l: enc.decode(l)\n",
    "\n",
    "start_ids = encode(start)\n",
    "x = (torch.tensor(start_ids, dtype=torch.long, device=device)[None, ...])\n",
    "\n",
    "#model = finetuned_model\n",
    "# run generation\n",
    "with torch.no_grad():\n",
    "    with ctx:\n",
    "        for k in range(num_samples):\n",
    "            y = model.generate(x, max_new_tokens, temperature=temperature, top_k=top_k)\n",
    "            print(decode(y[0].tolist()))\n",
    "            print('---------------')"
   ]
  }
 ],
 "metadata": {},
 "nbformat": 4,
 "nbformat_minor": 4
}
