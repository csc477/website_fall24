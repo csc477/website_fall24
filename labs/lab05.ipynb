{
 "cells": [
  {
   "cell_type": "markdown",
   "id": "2d73d478",
   "metadata": {},
   "source": [
    "# CSC413 Lab 5: Differential Privacy\n",
    "\n",
    "In this lab, we will explore how training a neural network with \n",
    "some of the optimization methods discussed in the lecture \n",
    "can cause models to capture more information about the training\n",
    "data than we might intend.\n",
    "We will discuss why this may be problematic from a privacy perspective,\n",
    "and introduce the idea of **differential privacy**.\n",
    "\n",
    "Finally, this lab introduces an optimization strategy called\n",
    "**DP-SGD** or differentially private stochastic gradient descent. \n",
    "This strategy has some provable properties about the amount of information\n",
    "captured.\n",
    "\n",
    "This lab also serves as an introductory guide to implementing optimization\n",
    "models that are presented in research papers. We hope that the techniques\n",
    "used in this lab build skills so that you can implement new techniques and ideas\n",
    "presented in other papers.\n",
    "\n",
    "By the end of this lab, you will be able to:\n",
    "\n",
    "1. Recognize that typical methods of using SGD to train a neural network might capture too much information about the training data.\n",
    "2. Articulate the importance of privacy to stakeholders.\n",
    "3. Explain the components of the DP-SGD algorithm.\n",
    "4. Compare models trained using SGD and those trained with DP-SGD through the lens of differential privacy.\n",
    "5. Implement, from an algorithm description, optimization techniques like DP-SGD that requires manual gradient manipulation in Pytorch.\n",
    "\n",
    "Please work in groups of 1-2 during the lab.\n",
    "\n",
    "Acknowledgements:\n",
    "\n",
    "- The MedMNIST data is from https://medmnist.com/\n",
    "- This assignment is written by Mahdi Haghifam, Sonya Allin, Lisa Zhang, Mike Pawliuk and Rutwa Engineer\n",
    "\n",
    "Please work in groups of 1-2 during the lab.\n",
    "\n",
    "## Submission\n",
    "\n",
    "If you are working with a partner, start by creating a group on Markus. If you are working alone,\n",
    "click \"Working Alone\".\n",
    "\n",
    "Submit the ipynb file `lab05.ipynb` on Markus \n",
    "**containing all your solutions to the Graded Task**s.\n",
    "Your notebook file must contain your code **and outputs** where applicable,\n",
    "including printed lines and images.\n",
    "Your TA will not run your code for the purpose of grading.\n",
    "\n",
    "For this lab, you should submit the following:\n",
    "\n",
    "1. Part 2: Description of the difference between the non-dp model predictions over data in/out of training (1 point)\n",
    "2. Part 3: Explanation of why the \"average height\" model is not $\\epsilon$-DP (1 point)\n",
    "3. Part 4: Explanation of `T_max` in `CosineAnnealingLR` (1 point)\n",
    "4. Part 4: Explanation why `max_grad_norm >= 7.49` causes gradient clipping to remain unchanged in the example (1 point)\n",
    "5. Part 4: Implementation of `dp_grads` function (4 points)\n",
    "6. Part 4: Explanation of the difference in the histogram of the dp and non-dp models (1 point)\n",
    "7. Part 4: Analysis of the impact of privacy breach on a vulnerable individual (1 point)\n",
    "\n",
    "## Google Colab Setup\n",
    "\n",
    "Like last week, we will be using the `medmnist` data set, which is available as a Python package.\n",
    "We will also be using `opacus`, which is a differential privacy library.\n",
    "\n",
    "Recall that on Google Colab, we use \"!\" to run shell commands.\n",
    "Below, we use such commands to install the Python packages."
   ]
  },
  {
   "cell_type": "code",
   "execution_count": null,
   "id": "60f38d9c",
   "metadata": {},
   "outputs": [],
   "source": [
    "!pip install medmnist\n",
    "!pip install opacus"
   ]
  },
  {
   "cell_type": "markdown",
   "id": "78020c9d",
   "metadata": {},
   "source": [
    "## Part 1. Data and Model\n",
    "\n",
    "We will be using the same data and model as in lab 3, with modifications in the way that the \n",
    "training, validation, and test sets are split. These modifications are necessary to be able to\n",
    "showcase differential privacy issues using a small model and limited data set size to ensure\n",
    "that models do not take an overwhelming amount of time to train."
   ]
  },
  {
   "cell_type": "code",
   "execution_count": null,
   "id": "7b81e818",
   "metadata": {},
   "outputs": [],
   "source": [
    "import numpy as np\n",
    "import matplotlib.pyplot as plt\n",
    "import torch\n",
    "import opacus\n",
    "import medmnist\n",
    "from medmnist import PneumoniaMNIST\n",
    "import torchvision.transforms as transforms\n",
    "\n",
    "import torch.utils.data as data_utils\n",
    "\n",
    "medmnist.INFO['pneumoniamnist']\n"
   ]
  },
  {
   "cell_type": "markdown",
   "id": "40f2e4cc",
   "metadata": {},
   "source": [
    "**Task** Use code from lab 3 to re-acquaint yourself with the training data.\n",
    "What do the inputs look like? What about the targets? What is the distribution\n",
    "of the targets? Intuitively, how difficult is the classification problem?"
   ]
  },
  {
   "cell_type": "code",
   "execution_count": null,
   "id": "e10ed1a9",
   "metadata": {},
   "outputs": [],
   "source": [
    "# TODO: Run/revise the data exploration code from lab 3 so\n",
    "# that you can describe the dataset and the difference between\n",
    "# the two classes"
   ]
  },
  {
   "cell_type": "markdown",
   "id": "297c3f01",
   "metadata": {},
   "source": [
    "**Task**: Using the standard train/validation/test split provided\n",
    "by the dataset, what percentage of the training set had the label `0`?\n",
    "What about the validation set?"
   ]
  },
  {
   "cell_type": "code",
   "execution_count": null,
   "id": "9242dae9",
   "metadata": {},
   "outputs": [],
   "source": [
    "# TODO: Write code to compute the figures here"
   ]
  },
  {
   "cell_type": "markdown",
   "id": "0a9ecf06",
   "metadata": {},
   "source": [
    "These statistics differ significantly between the training, validation\n",
    "and test sets for our DP demonstration to work well with our small MLP model.\n",
    "Thus, we will perform our own split of the training, validation, and test sets.\n",
    "\n",
    "In addition, we will split the data into four sets: training, validation,\n",
    "test, and a **memorization assessment set**. \n",
    "This data set will be the same size as our training set.\n",
    "Practitioners sometimes call this set a *second* or *unused* training set,\n",
    "even though this data set is not used for training.\n",
    "The idea is that we want to see if there is a difference between\n",
    "data that we actually used for training, vs another data that we *could have*\n",
    "used for training.\n",
    "\n",
    "**Task**: Run the following code to obtain the four datasets."
   ]
  },
  {
   "cell_type": "code",
   "execution_count": null,
   "id": "8cffafb5",
   "metadata": {},
   "outputs": [],
   "source": [
    "# Load the training, validation, and test sets\n",
    "# We will normalize each data set to mean 0.5 and std 0.5: this\n",
    "# improves training speed\n",
    "data_transform = transforms.Compose([transforms.ToTensor(),\n",
    "                                     transforms.Normalize(mean=[.5], std=[.5])])\n",
    "train_dataset = PneumoniaMNIST(split='train', transform=data_transform, download=True)\n",
    "valid_dataset = PneumoniaMNIST(split='val', transform=data_transform, download=True)\n",
    "test_dataset = PneumoniaMNIST(split='test', transform=data_transform, download=True)\n",
    "\n",
    "# Combine the training and validation\n",
    "combined_data = train_dataset + valid_dataset\n",
    "\n",
    "# Re-split the data into training,  memory assessment\n",
    "train_dataset, mem_asses_dataset, valid_dataset = torch.utils.data.random_split(combined_data, [0.4, 0.4, 0.2])"
   ]
  },
  {
   "cell_type": "markdown",
   "id": "89dfa210",
   "metadata": {},
   "source": [
    "**Task**: What percentage of the training set had the label `0`?\n",
    "What about the memorization assessment set?\n",
    "What about the validation set?"
   ]
  },
  {
   "cell_type": "code",
   "execution_count": null,
   "id": "944f9e45",
   "metadata": {},
   "outputs": [],
   "source": [
    "# TODO: Run code to complete your solution here."
   ]
  },
  {
   "cell_type": "markdown",
   "id": "162e1008",
   "metadata": {},
   "source": [
    "Now that our data is ready, we can set up the model and training code similar to lab 3."
   ]
  },
  {
   "cell_type": "code",
   "execution_count": null,
   "id": "ec735c5d",
   "metadata": {},
   "outputs": [],
   "source": [
    "import torch\n",
    "import torch.nn as nn\n",
    "import torch.optim as optim\n",
    "\n",
    "class MLPModel(nn.Module):\n",
    "    \"\"\"A three-layer MLP model for binary classification\"\"\"\n",
    "    def __init__(self, input_dim=28*28, num_hidden=600):\n",
    "        super(MLPModel, self).__init__()\n",
    "        self.fc1 = nn.Linear(input_dim, num_hidden)\n",
    "        self.fc2 = nn.Linear(num_hidden, num_hidden)\n",
    "        self.fc3 = nn.Linear(num_hidden, 1)\n",
    "        self.sigmoid = nn.Sigmoid()\n",
    "\n",
    "    def forward(self, x):\n",
    "        out = self.fc1(x)\n",
    "        out = self.sigmoid(out)\n",
    "        out = self.fc2(out)\n",
    "        out = self.sigmoid(out)\n",
    "        out = self.fc3(out)\n",
    "        return out"
   ]
  },
  {
   "cell_type": "markdown",
   "id": "d9f13dbf",
   "metadata": {},
   "source": [
    "To explore the distribution of predicted logits,\n",
    "the following code is written for you:\n",
    "it produces both the predictions and ground-truth labels across a dataset.\n",
    "There is also another utility function that can be used to measure the accuracy."
   ]
  },
  {
   "cell_type": "code",
   "execution_count": null,
   "id": "71be1254",
   "metadata": {},
   "outputs": [],
   "source": [
    "def get_predictions(model, data):\n",
    "    \"\"\"\n",
    "    Return the ground truth and predicted value across a dataset.\n",
    "    Unlike the get_prediction function in lab 3, this dataset\n",
    "    will produce the predictions for the *entire* dataset (no sampling)\n",
    "\n",
    "    Parameters:\n",
    "        `model` - A PyTorch model\n",
    "        `data` - A PyTorch dataset of MedMNIST images\n",
    "\n",
    "    Returns: A tuple `(ys, ts)` where:\n",
    "        `ys` is a list of prediction probabilities, same length as `data`\n",
    "        `ts` is a list of ground-truth labels, same length as `data`\n",
    "    \"\"\"\n",
    "    ys, ts = [], []\n",
    "    loader = torch.utils.data.DataLoader(data, batch_size=100)\n",
    "    for X, t in loader:\n",
    "        z = model(X.reshape(-1, 784))\n",
    "        ys += [float(y) for y in torch.sigmoid(z)]\n",
    "        ts += [float(t_) for t_ in t]\n",
    "    return ys, ts\n",
    "\n",
    "def accuracy(model, dataset):\n",
    "    \"\"\"\n",
    "    Compute the accuracy of `model` over the `dataset`.\n",
    "    We will take the **most probable class**\n",
    "    as the class predicted by the model.\n",
    "\n",
    "    Parameters:\n",
    "        `model` - A PyTorch model\n",
    "        `dataset` - A PyTorch dataset of MedMNIST images\n",
    "\n",
    "    Returns: a floating-point value between 0 and 1.\n",
    "    \"\"\"\n",
    "\n",
    "    ys, ts = get_predictions(model, dataset)\n",
    "    predicted = np.ndarray.round(np.array(ys))\n",
    "    return np.mean(predicted == ts)"
   ]
  },
  {
   "cell_type": "markdown",
   "id": "693bd096",
   "metadata": {},
   "source": [
    "The training code below is analogues to the training code used in lab 3,\n",
    "with some differences.\n",
    "One difference is that we use the **Adam** optimizer rather than SGD.\n",
    "The Adam optimizer combines ideas from momentum and RMSProp and is able\n",
    "to train our model to a suitable accuracy with much fewer iterations.\n",
    "\n",
    "**Task**: Run the code below to train our (non-private) model."
   ]
  },
  {
   "cell_type": "code",
   "execution_count": null,
   "id": "75af537d",
   "metadata": {},
   "outputs": [],
   "source": [
    "def train_model(model,                # a PyTorch model\n",
    "                train_data,           # training data\n",
    "                val_data,             # validation data\n",
    "                learning_rate=1e-2,\n",
    "                batch_size=100,\n",
    "                num_epochs=45,\n",
    "                plot_every=20,        # how often (in # iterations) to track metrics\n",
    "                plot=True):           # whether to plot the training curve\n",
    "    train_loader = torch.utils.data.DataLoader(train_data,\n",
    "                                               batch_size=batch_size,\n",
    "                                               shuffle=True) # reshuffle minibatches every epoch\n",
    "    criterion = nn.BCEWithLogitsLoss()\n",
    "    optimizer = torch.optim.Adam(model.parameters(),lr=learning_rate)\n",
    "\n",
    "    # these lists will be used to track the training progress\n",
    "    # and to plot the training curve\n",
    "    iters, train_loss, train_acc, val_acc = [], [], [], []\n",
    "    iter_count = 0 # count the number of iterations that has passed\n",
    "\n",
    "    for e in range(num_epochs):\n",
    "        for i, (images, labels) in enumerate(train_loader):\n",
    "              z = model(images.reshape(-1, 784))\n",
    "              loss = criterion(z, labels.to(torch.float))\n",
    "              loss.backward()\n",
    "              optimizer.step()\n",
    "              optimizer.zero_grad()\n",
    "\n",
    "              iter_count += 1\n",
    "              if iter_count % plot_every == 0:\n",
    "                  iters.append(iter_count)\n",
    "                  ta = accuracy(model, train_data)\n",
    "                  va = accuracy(model, val_data)\n",
    "                  train_loss.append(float(loss))\n",
    "                  train_acc.append(ta)\n",
    "                  val_acc.append(va)\n",
    "                  print(iter_count, \"Loss:\", float(loss), \"Train Acc:\", ta, \"Val Acc:\", va)\n",
    "\n",
    "    if plot:\n",
    "        plt.figure()\n",
    "        plt.plot(iters[:len(train_loss)], train_loss)\n",
    "        plt.title(\"Loss over iterations\")\n",
    "        plt.xlabel(\"Iterations\")\n",
    "        plt.ylabel(\"Loss\")\n",
    " \n",
    "        plt.figure()\n",
    "        plt.plot(iters[:len(train_acc)], train_acc)\n",
    "        plt.plot(iters[:len(val_acc)], val_acc)\n",
    "        plt.title(\"Accuracy over iterations\")\n",
    "        plt.xlabel(\"Iterations\")\n",
    "        plt.ylabel(\"Loss\")\n",
    "        plt.legend([\"Train\", \"Validation\"])\n",
    "\n",
    "model_np = MLPModel()\n",
    "train_model(model_np, train_dataset, valid_dataset)"
   ]
  },
  {
   "cell_type": "markdown",
   "id": "b119e6cf",
   "metadata": {},
   "source": [
    "## Part 2. Privacy issues in our model\n",
    "\n",
    "In this part of the lab, we will show that our trained model captures \n",
    "more information about the training data than we might intend. In particular,\n",
    "we show that the model predictions have different patterns for images used in\n",
    "training (compared to images that are not used in training).\n",
    "Specifically, the prediction logits follow a different distribution for\n",
    "training images and images not used for training.\n",
    "\n",
    "In more general applications, the patterns in the logit distributions can be used \n",
    "to build classifiers that can predict **whether an image was used in training**\n",
    "a neural network.\n",
    "\n",
    "**Task**: Suppose that you are a patient in a medical study, who consented\n",
    "for their data to be used to train a machine learning model to detect the strains\n",
    "of certain diseases (i.e., strain A or B of the same disease).\n",
    "Explain why you might *not* want it be known that your data was used to build the\n",
    "model."
   ]
  },
  {
   "cell_type": "code",
   "execution_count": null,
   "id": "90547538",
   "metadata": {},
   "outputs": [],
   "source": [
    "# TODO: Your explanation goes here."
   ]
  },
  {
   "cell_type": "markdown",
   "id": "7787c419",
   "metadata": {},
   "source": [
    "Recall that we used `train_dataset` to train our model,\n",
    "but did not use the `mem_asses_dataset`. To show that our model behaves differently\n",
    "for data used in training (vs not), we will plot the histogram of prediction\n",
    "probabilities across these two datasets.\n",
    "\n",
    "**Task**: Run the code below, which produces *cumulative* histogram plots showing\n",
    "showing the *log* model predictions of negative and positive samples (truth label=0 vs\n",
    "true label=1). The predictions for data point in the training set is shown in blue.\n",
    "The predictions for data points *not* in the training set (in the memorization assessment set)\n",
    "is in red."
   ]
  },
  {
   "cell_type": "code",
   "execution_count": null,
   "id": "7d90fe68",
   "metadata": {},
   "outputs": [],
   "source": [
    "def plot_hist(model, in_dataset, out_dataset):\n",
    "    \"\"\"\n",
    "    Plots the histogram (cumulative, in the log space) of the predicted\n",
    "    probabilities for datasets that is in the training set vs out. The\n",
    "    histograms are separated by the true labels.\n",
    "\n",
    "    Parameters:\n",
    "        `model` - A PyTorch model\n",
    "        `in_dataset` - A PyTorch dataset used for training \n",
    "                       (i.e. *in* the training set)\n",
    "        `out_dataset` - A PyTorch dataset not used for training \n",
    "                       (i.e. *out* the training set)\n",
    "    \"\"\"\n",
    "    # Obtain the prediction for data points in both data sets\n",
    "    ys_in, ts_in  = get_predictions(model, in_dataset)\n",
    "    ys_out, ts_out = get_predictions(model, out_dataset)\n",
    "\n",
    "    # Compute the negative log() of these predictions, separated by the\n",
    "    # ground truth labels. An epsilon is added to the prediction for\n",
    "    # numerical stability\n",
    "    epsilon = 1e-10\n",
    "    conf_in_0 = [-np.log(y + epsilon) for t, y in zip(ts_in, ys_in) if t == 0]\n",
    "    conf_in_1 = [-np.log(1 - y + epsilon) for t, y in zip(ts_in, ys_in) if t == 1]\n",
    "    conf_out_0 = [-np.log(y + epsilon) for t, y in zip(ts_out, ys_out) if t == 0]\n",
    "    conf_out_1 = [-np.log(1 - y + epsilon) for t, y in zip(ts_out, ys_out) if t == 1]\n",
    "\n",
    "    # Bins used for the density/histogram\n",
    "    bins_0 = np.linspace(0,max(max(conf_in_0),max(conf_out_0)),500)\n",
    "    bins_1 = np.linspace(0,max(max(conf_in_1),max(conf_out_1)),500)\n",
    "\n",
    "    # Plot the histogram for the predicted probabilities for true label = 0\n",
    "    plt.subplot(2, 1, 1)\n",
    "    plt.hist(conf_out_0, bins_0, color='r', label='out', alpha=0.5,cumulative=True, density=True)\n",
    "    plt.hist(conf_in_0, bins_0, color='b', label='in', alpha=0.5,cumulative=True, density=True)\n",
    "    plt.legend()\n",
    "    plt.ylabel('CDF')\n",
    "    plt.xlabel('-log(Pr(pred=1))')\n",
    "    plt.title(\"True label=0\")\n",
    "\n",
    "    # Plot the histogram for the predicted probabilities for true label = 1\n",
    "    plt.subplot(2, 1, 2)\n",
    "    plt.hist(conf_out_1, bins_1, color='r', label='out', alpha=0.5,cumulative=True, density=True)\n",
    "    plt.hist(conf_in_1, bins_1, color='b', label='in', alpha=0.5,cumulative=True, density=True)\n",
    "    plt.legend()\n",
    "    plt.title(\"True label=1\")\n",
    "    plt.ylabel('CDF')\n",
    "    plt.xlabel('-log(Pr(pred=0))')\n",
    "\n",
    "    plt.subplots_adjust(hspace=1)\n",
    "    plt.show()\n",
    "\n",
    "plot_hist(model_np, train_dataset, mem_asses_dataset)"
   ]
  },
  {
   "cell_type": "markdown",
   "id": "6ce8df1a",
   "metadata": {},
   "source": [
    "**Graded Task**: What difference do you notice between the histograms of the\n",
    "data points *in* the training set, vs those *not in* the training set?\n",
    "Explain how this difference is indicative of *overfitting*."
   ]
  },
  {
   "cell_type": "code",
   "execution_count": null,
   "id": "7ec0d257",
   "metadata": {},
   "outputs": [],
   "source": [
    "# TODO: Your answer goes here"
   ]
  },
  {
   "cell_type": "markdown",
   "id": "b8e969e9",
   "metadata": {},
   "source": [
    "## Part 3. Differential Privacy\n",
    "\n",
    "In the previous section, we observed that a model's prediction confidence for\n",
    "the samples inside its training set can be different from those outside the\n",
    "training set.\n",
    "We already know that this disparity has a negative impact on the model's\n",
    "performance during test time. This phenomenon is known as overfitting and\n",
    "we know several techniques on how to measure and reduce the overfitting.\n",
    "In this part, we want to argue that this disparity has a negative impact on\n",
    "**privacy** of the training samples. \n",
    "\n",
    "Assume the designed model in the previous section is published for the public as\n",
    "a classification model for Pneumonia.  Assume that the training set consists of\n",
    "individuals' X-ray. Even though the participants have consented to participate\n",
    "in the research, their privacy should still be protected. If an attacker can\n",
    "determine whether a specific individual's data is part of the research dataset,\n",
    "it might lead to unintended privacy breaches. Participants might not want their\n",
    "involvement in such a study to be public knowledge due to the stigma associated\n",
    "with certain medical conditions. This disparity may also help an attacker to\n",
    "reconstruct a participant's data. This example shows that the disparity between\n",
    "the model's confidence lets the adversary infer the membership of a sample from\n",
    "the predictions. This is alarming! In the next part, we discuss how to mitigate\n",
    "this risk by introducing the fundamental concept of **Differential Privacy**.\n",
    "\n",
    "Differential privacy (DP) is a data privacy framework that aims to provide strong\n",
    "privacy guarantees when analyzing or sharing sensitive data.\n",
    "**We say an ML algorithm satisfies Differential Privacy if changing *one* of the\n",
    "training samples does not change the output of the algorithm *significantly*.**\n",
    "DP is an interesting property: assume you want to give a hospital access to your X-ray. If the hospital uses a DP ML algorithm, then, you are guaranteed that your presence does not affect the output significantly. This is promising and motivates people to give access to their data for the purpose of data analysis.\n",
    "\n",
    "Next, we discuss how to formalize DP.\n",
    "\n",
    "Assume we have a dataset $S=\\{(x_1,y_1),\\dots,(x_n,y_n)\\}$\n",
    "which consists of $n$ individuals data. Consider the neighboring dataset\n",
    "$S'=\\{(x_1,y_1),\\dots,(x'_n, y'_n)\\}$\n",
    "which differs from $S$ in only one sample. Then, we say a randomized algorithm $\\mathcal{A}$ satisfies $\\epsilon$-DP if for all the output $y$ in the range of $\\mathcal{A}$ it satisfies\n",
    "\n",
    "$$\n",
    "\\mathbb{Pr}\\left(\\mathcal{A}(S) =y \\right) \\leq \\exp(\\epsilon)  \\mathbb{Pr}\\left(\\mathcal{A}(S’) =y \\right).\n",
    "$$\n",
    "\n",
    "But what is the intuition behind this equation? \n",
    "\n",
    "$\\epsilon$  is called the privacy budget. Privacy budget captures how strong our privacy guarantees are, by showing that the outcome is indistinguishable in two neighboring datasets. This can be shown by setting  $\\epsilon = 0$, the probability the analysis having an outcome is the same with or without you in the database. So if we set  $\\epsilon$ to some small value, we can get good guarantees that the output will not differ much.\n",
    "\n",
    "A common property of privacy-preserving algorithms is randomness. To see why it is the case assume we are interested in the average height of the students enrolled in\n",
    "CSC413while preserving their privacy. Consider a **deterministic** algorithm that reports the average height of the students. We argue that there exists no finite $\\epsilon$ for which this algorithm is DP.  For this example, it can be shown that by adding a Gaussian noise to the average height we can preserve privacy of the individuals. \n",
    "\n",
    "**Graded Task**: Explain why the algorithm that reports the average height of the students is not $\\epsilon$-DP for any finite $\\epsilon>0$."
   ]
  },
  {
   "cell_type": "code",
   "execution_count": null,
   "id": "45e1c8db",
   "metadata": {},
   "outputs": [],
   "source": [
    "# TODO: Include your explanation here"
   ]
  },
  {
   "cell_type": "markdown",
   "id": "fbbcb5ab",
   "metadata": {},
   "source": [
    "We hope that the basic intuition behind differential privacy is now clear. DP is now a widely-used method to preserve privacy. It has been used in companies like Google and Apple to gather the user’s data. It is also recently used for the US Census. See the following [video]{https://www.youtube.com/watch?v=nVPE1dbA394} to get more information. \n",
    "\n",
    "## Part 4. Differentially-Private SGD\n",
    "\n",
    "In this section, we discuss how we can make stochastic gradient descent differentially private and implement it.\n",
    "We will follow the algorithmic description of DP-SGD forom [https://arxiv.org/pdf/1607.00133.pdf](https://arxiv.org/pdf/1607.00133.pdf)\n",
    "that we reproduce below. Start by reading the words/headings in the description, then we will discuss\n",
    "the algorithm line by line.\n",
    "\n",
    "Algorithm Outline for Differentially Private SGD (DP-SGD)\n",
    "\n",
    "**Input** Examples $\\left\\{x_1, \\ldots, x_N\\right\\}$, loss function $\\mathcal{L}(\\theta)=$\n",
    "$\\frac{1}{N} \\sum_i \\mathcal{L}\\left(\\theta, x_i\\right)$.\n",
    "\n",
    "**Parameters**: learning rate $\\eta_t$, noise scale, $\\sigma$, group size $L$, gradient norm bound $C$. \\\\\n",
    "\n",
    "**Initialize** $\\theta_0$ randomly \n",
    "\n",
    "**for**  $t \\in[T]$ do \n",
    "  * Take a random sample $L_t$ with sampling probability $L / N$ \n",
    "  * **Compute gradient** $\\quad$ For each $i \\in L_t$, compute $\\mathbf{g}_t\\left(x_i\\right) \\leftarrow \\nabla_{\\theta_t} \\mathcal{L}\\left(\\theta_t, x_i\\right)$\n",
    "  * **Clip gradient** $\\overline{\\mathbf{g}}_t\\left(x_i\\right) \\leftarrow \\mathbf{g}_t\\left(x_i\\right) / \\max \\left(1, \\frac{\\left\\|\\mathbf{g}_t\\left(x_i\\right)\\right\\|_2}{C}\\right)$\n",
    "  * **Add noise** $\\tilde{\\mathbf{g}}_t \\leftarrow \\frac{1}{L}\\left(\\sum_i \\overline{\\mathbf{g}}_t\\left(x_i\\right)+\\mathcal{N}\\left(0, \\sigma^2 C^2 \\mathbf{I}\\right)\\right)$ \\\\\n",
    "  * **Descent** $\\theta_{t+1} \\leftarrow \\theta_t-\\eta_t \\tilde{\\mathbf{g}}_t$ \n",
    "\n",
    "**Output** $\\theta_T$ and compute the overall privacy cost $(\\varepsilon, \\delta)$ using a privacy accounting method.\n",
    "\n",
    "\n",
    "**Task**: Read the algorithm above. Write down, for each symbol/notation used in the algorithm,\n",
    "what it represents. Pay particular attention to the symbol $\\mathbf{g}_t\\left(x_i\\right)$\n",
    "and its various modifications."
   ]
  },
  {
   "cell_type": "code",
   "execution_count": null,
   "id": "2cf56eb2",
   "metadata": {},
   "outputs": [],
   "source": [
    "# TODO: Make sure you understand the notation before moving on to the\n",
    "# detailed descriptions."
   ]
  },
  {
   "cell_type": "markdown",
   "id": "403bbe31",
   "metadata": {},
   "source": [
    "Now, let's discuss the algorithm line by line.\n",
    "\n",
    "- **Sampling**: The sampling mechanism used in DP-SGD is different from SGD.\n",
    "  In non-private SGD, we choose a random permutation at the beginning of each epoch.\n",
    "  However, in DP-SGD at each iteration we select a sample with probability (batchsize/number of samples)\n",
    "  to be a member of the batch at the current iteration.\n",
    "  This sampling mechanism is also called *Poisson subsampling*.\n",
    "  We will not implement this sampling ourselves; \n",
    "  we will use [Opacus software package implement](https://opacus.ai/api/data_loader.html) of it. \n",
    "- **Gradient Computation**: This step is analogous to gradient computation in SGD. However, the \n",
    "  gradients of each sample in the batch is computed separately.\n",
    "- **Clipping Gradients**: You should be able to show that, mathematically, that clipping ensures that for each data point,\n",
    "  the gradient vector of that data point has a maximum norm of $C$. Why is this useful?\n",
    "  Assume there is an outlier for which the gradient is very large. Without clipping, the impact of the outlier on the algorithm will be unbounded.\n",
    "  DP-SGD performs clipping to each individual gradient point separately, which limits the contribution of each data point to the\n",
    "  parameter update.\n",
    "- **Adding Noise**: In order to achieve a specific level of privacy determined by $\\epsilon$, we need to select the minimum amount of noise to be added in each iteration ($\\sigma$ in the algorithm description). Since determining the exact amount requires a very technical calculation, there are software packages which can be used. Here, we use the Opacus software package from Meta research. It provides a function which takes as input the privacy level $\\epsilon$, batchsize and the number of training points, and outputs the variance of the noise. There is another input, i.e., $\\delta$. Do not make any changes to it. If you are interested to know what it means please read the following [lecture note](http://www.gautamkamath.com/CS860notes/lec5.pdf).\n",
    "\n",
    "**Task**: Notice that the scale of the noise added to the gradient is related to the clipping parameter.\n",
    "Does the amount of the noise added *increase* or *decrease* if we allow a larger maximum norm $C$ during clipping? \n",
    "(Reasoning about these differences is one way to make sense of mathematical equations like these.)"
   ]
  },
  {
   "cell_type": "code",
   "execution_count": null,
   "id": "39b42ea9",
   "metadata": {},
   "outputs": [],
   "source": [
    "# TODO: Your answer goes here"
   ]
  },
  {
   "cell_type": "markdown",
   "id": "fc8c182a",
   "metadata": {},
   "source": [
    "In the next few tasks, we will describe the pieces of code that we will need to implement DP-SGD.\n",
    "\n",
    "**Task**: Run the following code to compare the batches produced by the usual Dataloader vs. via Poisson Sampling.\n",
    "What do you noitce?"
   ]
  },
  {
   "cell_type": "code",
   "execution_count": null,
   "id": "db2c6796",
   "metadata": {},
   "outputs": [],
   "source": [
    "# Create a dataset with 20 numbers\n",
    "x = torch.arange(20)\n",
    "print(x)\n",
    "dataset = torch.utils.data.TensorDataset(x)\n",
    "\n",
    "print('PyTorch DataLoader')\n",
    "data_loader = torch.utils.data.DataLoader(dataset, batch_size=4,shuffle=True)\n",
    "for _ in range(2): # run for 2 epochs\n",
    "    for x_b in data_loader:\n",
    "        print(x_b)\n",
    "    print('-------------------')\n",
    "\n",
    "print('Poisson Sampling')\n",
    "dp_data_loader = opacus.data_loader.DPDataLoader(dataset, sample_rate = 5/20)\n",
    "for _ in range(2): # run for 2 epochs\n",
    "    for x_b in dp_data_loader:\n",
    "        print(x_b)\n",
    "    print('-------------------')"
   ]
  },
  {
   "cell_type": "markdown",
   "id": "8aee1ee1",
   "metadata": {},
   "source": [
    "In addition to using a different sampling method, we will use `CosineAnnealingLR` learning rate scheduler in pytorch.\n",
    "You need to understand how this learning rate scheduler works and how it can be updated.\n",
    "\n",
    "**Graded Task** Read the PyTorch documentation on [CosineAnnealingLR](https://pytorch.org/docs/stable/generated/torch.optim.lr_scheduler.CosineAnnealingLR.html)\n",
    "and explain what the parameter `T_max` represent."
   ]
  },
  {
   "cell_type": "code",
   "execution_count": null,
   "id": "91a82f13",
   "metadata": {},
   "outputs": [],
   "source": [
    "# TODO: Write your explanation here."
   ]
  },
  {
   "cell_type": "markdown",
   "id": "7a011bca",
   "metadata": {},
   "source": [
    "The most challenging part of implementing DP-SGD is that \n",
    "we will need to implement our own optimization process to modify the default gradient\n",
    "descent behaviour. However, Pytorch has a nice feature\n",
    "that we saw in lab 1: each parameter in a model stores its own gradient as an attribute.\n",
    "In particular, consider the following snippet which can be used to print the name and gradient of the\n",
    "parameters in a model."
   ]
  },
  {
   "cell_type": "code",
   "execution_count": null,
   "id": "3db1e5b2",
   "metadata": {},
   "outputs": [],
   "source": [
    "for name, param in model_np.named_parameters(): \n",
    "    print(name)\n",
    "    print(param.grad)"
   ]
  },
  {
   "cell_type": "markdown",
   "id": "fb658a01",
   "metadata": {},
   "source": [
    "What we didn't see in lab 1 is that we can anually change the gradient of each parameter!\n",
    "\n",
    "This is powerful, because the optimizers in PyTorch uses the `.grad` attributes of each\n",
    "parameter to perform model updates. Thus, changing the `.grad` attributes provides a way to\n",
    "override the default gradient descent behaviour.\n",
    "\n",
    "**Task**: Run the below code, which demonstrates how the `.grad` attribute can be modified."
   ]
  },
  {
   "cell_type": "code",
   "execution_count": null,
   "id": "51a3aa87",
   "metadata": {},
   "outputs": [],
   "source": [
    "model = nn.Linear(5, 1) # linear model with input dim = 5, and a single output\n",
    "print(list(model.parameters())) # print the current parameters\n",
    "\n",
    "# manually set the optimizers\n",
    "optimizer = torch.optim.SGD(model.parameters(), 0.1)\n",
    "model.weight.grad = torch.nn.parameter.Parameter(torch.Tensor([[1, 2, 3, 4, 5.]]))\n",
    "model.bias.grad = torch.nn.parameter.Parameter(torch.Tensor([1.]))\n",
    "optimizer.step()\n",
    "\n",
    "# what would you expect the output to be?\n",
    "print(list(model.parameters()))"
   ]
  },
  {
   "cell_type": "markdown",
   "id": "aac04e65",
   "metadata": {},
   "source": [
    "To implement DP-SGD, We will need to manually modify the `.grad` attribute in a few ways.\n",
    "One of the steps to DP-SGD is gradient clipping. Fortunately, PyTorch actually comes with\n",
    "an implementation of gradient clipping through the function `torch.nn.utils.clip_grad_norm_`.\n",
    "\n",
    "**Task**: Run this code to see how gradient clipping works. Notice that the gradient\n",
    "*direction* is unchanged, only the magnitude."
   ]
  },
  {
   "cell_type": "code",
   "execution_count": null,
   "id": "ab3a1d38",
   "metadata": {},
   "outputs": [],
   "source": [
    "model = nn.Linear(5, 1) # linear model with input dim = 5, and a single output\n",
    "model.weight.grad = torch.Tensor([[1, 2, 3, 4, 5.]])\n",
    "model.bias.grad = torch.Tensor([1.])\n",
    "max_grad_norm = 0.5\n",
    "torch.nn.utils.clip_grad_norm_(model.parameters(), max_grad_norm)\n",
    "print(model.weight.grad, model.bias.grad)"
   ]
  },
  {
   "cell_type": "markdown",
   "id": "14f84ae6",
   "metadata": {},
   "source": [
    "**Graded Task**: Explain why if we set `max_grad_norm >= 7.49` above, the \n",
    "gradient will be unchanged. Your explanation should demonstrate the calculation\n",
    "of where the number 7.49 comes from."
   ]
  },
  {
   "cell_type": "code",
   "execution_count": null,
   "id": "82171cd9",
   "metadata": {},
   "outputs": [],
   "source": [
    "# TODO: Include your explanation and calculation here."
   ]
  },
  {
   "cell_type": "markdown",
   "id": "44a33a6a",
   "metadata": {},
   "source": [
    "**Graded Task**:\n",
    "Now that we have the pieces we need to implement our DP-SGD gradient computation,\n",
    "Complete the code below, which performs one iteration of DP-SGD update for a batch\n",
    "of data. You may wish to look ahead to see how this function will be used in DP-SGD training."
   ]
  },
  {
   "cell_type": "code",
   "execution_count": null,
   "id": "11ca9200",
   "metadata": {},
   "outputs": [],
   "source": [
    "def dp_grads(model, batch_data, criterion, max_grad_norm, noise_multiplier):\n",
    "    \"\"\"\n",
    "    Compute gradients for an iteration of DP-SGD training by setting the\n",
    "    .grad attribute of each parameter in model.named_parameters()\n",
    "    according to the DP-SGD algorithm.\n",
    "\n",
    "    Parameters:\n",
    "        - `model` - A PyTorch model\n",
    "        - `batch_data` - A list of tuples (x, t) representing a batch of data\n",
    "        - `criterion` - A PyTorch loss function\n",
    "        - `max_grad_norm` - The maximum gradient norm, used for gradient clipping\n",
    "                            (C in the algorithm description)\n",
    "        - `noise_multiplier` - The noise multiplier, used for adding noise\n",
    "                               (sigma in the algorithm description)\n",
    "\n",
    "    Returns: A dictionary `clipped_noisy_grads` that maps the names of each\n",
    "             parameter in `model.named_parameters()` to its modified gradient\n",
    "             computed according to DP-SGD\n",
    "    \"\"\"\n",
    "    # Create the mapping of each parameter in our model to\n",
    "    # what will evetually be the noisy gradients\n",
    "    clipped_noisy_grads = {name: torch.zeros_like(param) for name, param in model.named_parameters()}\n",
    "\n",
    "    # Iterate over the data points in each batch. This is unfortunately\n",
    "    # necessary so that we can perform gradient clipping separtely for each\n",
    "    # data point\n",
    "    for xi, ti in batch_data:\n",
    "        zi = None # TODO: compute the model prediction (logit)\n",
    "        lossi = None # TODO: compute the loss for this data point\n",
    "\n",
    "        # TODO: perform the backward pass\n",
    "\n",
    "        # TODO: perform gradient clipping\n",
    "\n",
    "        # accumulate the clipped gradients in `clipped_noisy_grads`\n",
    "        for name, param in model.named_parameters():\n",
    "            clipped_noisy_grads[name] += param.grad\n",
    "\n",
    "        # TODO: clear the gradients in the model's computation graph\n",
    "\n",
    "    # Now, we iterate over the name parameters to add noise\n",
    "    for name, param in model.named_parameters():\n",
    "        # TODO: Read the equation in the \"Add Noise\" section of the\n",
    "        #      algorithm description, and implement it. You may find\n",
    "        #      the function `torch.normal` helpful.\n",
    "        clipped_noisy_grads[name] += 0 # TODO\n",
    "\n",
    "\n",
    "    return clipped_noisy_grads"
   ]
  },
  {
   "cell_type": "markdown",
   "id": "2bc68b85",
   "metadata": {},
   "source": [
    "Please include the output of the tests below in your submission. (What should the output of the test be?)"
   ]
  },
  {
   "cell_type": "code",
   "execution_count": null,
   "id": "4d386c13",
   "metadata": {},
   "outputs": [],
   "source": [
    "model = nn.Linear(5, 1)\n",
    "model.weight = nn.Parameter(torch.Tensor([[1, 1, 0, 0, 0.]]))\n",
    "model.bias = nn.Parameter(torch.Tensor([0.]))\n",
    "batch_data = [(torch.Tensor([[1, 1, 1, 0, 0.]]), torch.Tensor([1.])),\n",
    "              (torch.Tensor([[1, 0, 1, 0, 0.]]), torch.Tensor([0.]))]\n",
    "criterion = nn.BCEWithLogitsLoss()\n",
    "\n",
    "# no noise and a large max_grad_norm\n",
    "print(dp_grads(model, batch_data, criterion, max_grad_norm=1000, noise_multiplier=0))\n",
    "print('-----------')\n",
    "\n",
    "# no noise and a small max_grad_norm\n",
    "print(dp_grads(model, batch_data, criterion, max_grad_norm=0.5, noise_multiplier=3))\n",
    "print('-----------')\n",
    "\n",
    "# small max_grad_norm and some noise (STD should be ~0.5x3/2)\n",
    "for i in range(10):\n",
    "    print(dp_grads(model, batch_data, criterion, max_grad_norm=0.5, noise_multiplier=3))"
   ]
  },
  {
   "cell_type": "markdown",
   "id": "e170bf41",
   "metadata": {},
   "source": [
    "**Task** Now that we have DP-SGD in place, run the below code to train a differentially private model."
   ]
  },
  {
   "cell_type": "code",
   "execution_count": null,
   "id": "cd009851",
   "metadata": {},
   "outputs": [],
   "source": [
    "def train_model_private(model, traindata, valdata, learning_rate=2e-1,\n",
    "                        batch_size=500, num_epochs=25, plot_every=20,\n",
    "                        epsilon=0.5, max_grad_norm=6):\n",
    "    # Compute the noise multiplier\n",
    "    N = len(traindata)\n",
    "    noise_multiplier = opacus.accountants.utils.get_noise_multiplier(\n",
    "        target_epsilon=epsilon,\n",
    "        target_delta=1/N,\n",
    "        sample_rate=batch_size/N,\n",
    "        epochs=num_epochs)\n",
    "\n",
    "    # Use the differentially private data loader\n",
    "    train_loader = opacus.data_loader.DPDataLoader(\n",
    "        dataset=traindata,\n",
    "        sample_rate=batch_size/N)\n",
    "\n",
    "    criterion = nn.BCEWithLogitsLoss()\n",
    "    optimizer = optim.SGD(model.parameters(), lr=learning_rate)\n",
    "    scheduler = torch.optim.lr_scheduler.CosineAnnealingLR(optimizer, T_max=N//batch_size * num_epochs)\n",
    "\n",
    "    # these lists will be used to track the training progress\n",
    "    # and to plot the training curve\n",
    "    iters, train_loss, train_acc, val_acc = [], [], [], []\n",
    "    iter_count = 0 # count the number of iterations that has passed\n",
    " \n",
    "    for e in range(num_epochs):\n",
    "        for i, (images, labels) in enumerate(train_loader):\n",
    "            images = images.reshape(-1, 28*28)\n",
    "            # get the clipped noisy gradients from the function you wrote\n",
    "            clipped_noisy_grads = dp_grads(model,\n",
    "                                           batch_data=list(zip(images,labels)),\n",
    "                                           criterion=criterion,\n",
    "                                           max_grad_norm=max_grad_norm,\n",
    "                                           noise_multiplier=noise_multiplier)\n",
    "            # manually update the gradients\n",
    "            for name, param in model.named_parameters():\n",
    "                param.grad = clipped_noisy_grads[name]\n",
    "            optimizer.step() # update the parameters\n",
    "            scheduler.step() # update the learning rate scheduler\n",
    "            optimizer.zero_grad() # clean up accumualted gradients\n",
    "\n",
    "            iter_count += 1\n",
    "            if iter_count % plot_every == 0:\n",
    "                # forward pass to compute the loss\n",
    "                z = model(images.reshape(-1, 784))\n",
    "                loss = criterion(z, labels.to(torch.float))\n",
    "                optimizer.zero_grad()\n",
    "\n",
    "                iters.append(iter_count)\n",
    "                ta = accuracy(model, traindata)\n",
    "                va = accuracy(model, valdata)\n",
    "                train_loss.append(float(loss))\n",
    "                train_acc.append(ta)\n",
    "                val_acc.append(va)\n",
    "                print(iter_count, \"Loss:\", float(loss), \"Train Acc:\", ta, \"Val Acc:\", va)\n",
    "   \n",
    "    plt.figure()\n",
    "    plt.plot(iters[:len(train_loss)], train_loss)\n",
    "    plt.title(\"Loss over iterations\")\n",
    "    plt.xlabel(\"Iterations\")\n",
    "    plt.ylabel(\"Loss\")\n",
    "\n",
    "    plt.figure()\n",
    "    plt.plot(iters[:len(train_acc)], train_acc)\n",
    "    plt.plot(iters[:len(val_acc)], val_acc)\n",
    "    plt.title(\"Accuracy over iterations\")\n",
    "    plt.xlabel(\"Iterations\")\n",
    "    plt.ylabel(\"Loss\")\n",
    "    plt.legend([\"Train\", \"Validation\"])"
   ]
  },
  {
   "cell_type": "code",
   "execution_count": null,
   "id": "c81db1ac",
   "metadata": {},
   "outputs": [],
   "source": [
    "model_priv = MLPModel()\n",
    "train_model_private(model_priv, train_dataset, valid_dataset)"
   ]
  },
  {
   "cell_type": "markdown",
   "id": "075c47bf",
   "metadata": {},
   "source": [
    "**Graded Task**: Plot the histogram of the model prediction for this differentially private model.\n",
    "How does this histogram differ from that of `model_np` from above?"
   ]
  },
  {
   "cell_type": "code",
   "execution_count": null,
   "id": "6e94e0af",
   "metadata": {},
   "outputs": [],
   "source": [
    "plot_hist(model_priv, train_dataset, mem_asses_dataset)"
   ]
  },
  {
   "cell_type": "code",
   "execution_count": null,
   "id": "7a462038",
   "metadata": {},
   "outputs": [],
   "source": [
    "# TODO: Explain how the histogram differs from that of model_np"
   ]
  },
  {
   "cell_type": "markdown",
   "id": "c38fb7b5",
   "metadata": {},
   "source": [
    "**Task** How does the accuracy differ from that of model_no mentioned above? Explain what you observe."
   ]
  },
  {
   "cell_type": "code",
   "execution_count": null,
   "id": "353aaa6d",
   "metadata": {
    "vscode": {
     "languageId": "plaintext"
    }
   },
   "outputs": [],
   "source": [
    "# TODO: Your answer goes here"
   ]
  },
  {
   "cell_type": "markdown",
   "id": "66ce2f08",
   "metadata": {},
   "source": [
    "**Graded Task**: Suppose that an attacker recognizes that your friend Taylor is in this data set, means that their X-ray was taken at some point during a hospitalization,\n",
    "and that Taylor provided researchers consent to be included in the study dataset. If this information is sold to a third-party (e.g., a credit reporting agency, an employer,\n",
    "or a landlord), how might this affect Taylor?"
   ]
  },
  {
   "cell_type": "code",
   "execution_count": null,
   "id": "d39c8b26",
   "metadata": {},
   "outputs": [],
   "source": [
    "# TODO: Your answer goes here"
   ]
  },
  {
   "cell_type": "markdown",
   "id": "e3152eb6",
   "metadata": {},
   "source": [
    "If you are interested in DP, we suggest \n",
    "performing hyperparameter tuning over batch size and max grad norm.\n",
    "In, DP-SGD usually larger batch size would help.\n",
    "So, for instance for two values of $\\varepsilon \\in \\{0.5,1,5\\}$,\n",
    "try to find the best model for $\\text{batchsize}\\in \\{100,500\\}$ and $\\text{gradnorm}\\in\\{4,8,16\\}$.\n",
    "\n",
    "## Appendix\n",
    "\n",
    "- [Differential Privacy and the Census]  https://www.youtube.com/watch?v=nVPE1dbA394\n",
    "- [Main DP-SGD Paper](https://arxiv.org/abs/1607.00133)\n",
    "- [CS 860 - Algorithms for Private Data Analysis at UWaterloo](http://www.gautamkamath.com/CS860notes/lec13.pdf)"
   ]
  }
 ],
 "metadata": {
  "kernelspec": {
   "display_name": "Python 3 (ipykernel)",
   "language": "python",
   "name": "python3"
  },
  "language_info": {
   "codemirror_mode": {
    "name": "ipython",
    "version": 3
   },
   "file_extension": ".py",
   "mimetype": "text/x-python",
   "name": "python",
   "nbconvert_exporter": "python",
   "pygments_lexer": "ipython3",
   "version": "3.10.6"
  }
 },
 "nbformat": 4,
 "nbformat_minor": 5
}
