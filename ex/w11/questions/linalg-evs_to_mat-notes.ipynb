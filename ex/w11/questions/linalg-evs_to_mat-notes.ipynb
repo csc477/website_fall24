{
 "cells": [
  {
   "cell_type": "markdown",
   "metadata": {},
   "source": [
    "# Eigenvalues and Eigenvectors to matrices"
   ]
  },
  {
   "cell_type": "markdown",
   "metadata": {},
   "source": [
    "Part (a) is straightforward. One needs to simply concatenate the given eigenvalues in a matrix."
   ]
  },
  {
   "cell_type": "code",
   "execution_count": 2,
   "metadata": {},
   "outputs": [
    {
     "name": "stdout",
     "output_type": "stream",
     "text": [
      "4.266421588589642e-17\n"
     ]
    },
    {
     "data": {
      "text/plain": [
       "array([[ 1.5, -0.5],\n",
       "       [-0.5,  1.5]])"
      ]
     },
     "execution_count": 2,
     "metadata": {},
     "output_type": "execute_result"
    }
   ],
   "source": [
    "import numpy as np\n",
    "\n",
    "la1 = 1\n",
    "la2 = 2\n",
    "ev1 = np.array([np.sqrt(.5), np.sqrt(.5)])\n",
    "ev2 = np.array([np.sqrt(.5), -np.sqrt(.5)])\n",
    "\n",
    "La = np.diag([la1, la2])\n",
    "O = np.array([ev1, ev2])\n",
    "\n",
    "# Check orthogonality\n",
    "print(np.dot(ev1, ev2))\n",
    "\n",
    "np.matmul(np.matmul(O, La), O.T)"
   ]
  },
  {
   "cell_type": "markdown",
   "metadata": {},
   "source": [
    "Part (b) has a catch. The eigenvectors are not normalized. So, we need to normalize them first before concatenating them in a matrix."
   ]
  },
  {
   "cell_type": "code",
   "execution_count": 16,
   "metadata": {},
   "outputs": [
    {
     "name": "stdout",
     "output_type": "stream",
     "text": [
      "[[ 1.00000000e+00 -3.39032612e-18  2.15314570e-17]\n",
      " [-3.39032612e-18  1.00000000e+00  1.84419141e-17]\n",
      " [ 2.15314570e-17  1.84419141e-17  1.00000000e+00]]\n",
      "[[ 3.         -0.40824829 -0.70710678]\n",
      " [-0.40824829  2.5        -0.28867513]\n",
      " [-0.70710678 -0.28867513  3.5       ]]\n"
     ]
    },
    {
     "ename": "TypeError",
     "evalue": "unsupported operand type(s) for *: 'NoneType' and 'float'",
     "output_type": "error",
     "traceback": [
      "\u001b[0;31m---------------------------------------------------------------------------\u001b[0m",
      "\u001b[0;31mTypeError\u001b[0m                                 Traceback (most recent call last)",
      "\u001b[1;32m/Users/igor/Cloud/GIT/csc413/20239/ex/w11/questions/linalg-evs_to_mat-notes.ipynb Cell 5\u001b[0m line \u001b[0;36m1\n\u001b[1;32m      <a href='vscode-notebook-cell:/Users/igor/Cloud/GIT/csc413/20239/ex/w11/questions/linalg-evs_to_mat-notes.ipynb#W4sZmlsZQ%3D%3D?line=8'>9</a>\u001b[0m O \u001b[39m=\u001b[39m np\u001b[39m.\u001b[39marray([ev1, ev2, ev3])\n\u001b[1;32m     <a href='vscode-notebook-cell:/Users/igor/Cloud/GIT/csc413/20239/ex/w11/questions/linalg-evs_to_mat-notes.ipynb#W4sZmlsZQ%3D%3D?line=10'>11</a>\u001b[0m \u001b[39mprint\u001b[39m(np\u001b[39m.\u001b[39mmatmul(O, O\u001b[39m.\u001b[39mT))\n\u001b[0;32m---> <a href='vscode-notebook-cell:/Users/igor/Cloud/GIT/csc413/20239/ex/w11/questions/linalg-evs_to_mat-notes.ipynb#W4sZmlsZQ%3D%3D?line=11'>12</a>\u001b[0m \u001b[39mprint\u001b[39m(np\u001b[39m.\u001b[39mmatmul(np\u001b[39m.\u001b[39mmatmul(O, La), np\u001b[39m.\u001b[39mlinalg\u001b[39m.\u001b[39minv(O)))\u001b[39m*\u001b[39mnp\u001b[39m.\u001b[39msqrt(\u001b[39m.5\u001b[39m)\n",
      "\u001b[0;31mTypeError\u001b[0m: unsupported operand type(s) for *: 'NoneType' and 'float'"
     ]
    }
   ],
   "source": [
    "la1 = 2\n",
    "la2 = 3\n",
    "la3 = 4\n",
    "ev1 = np.array([np.sqrt(1/3), np.sqrt(1/3), np.sqrt(1/3)])\n",
    "ev2 = np.array([np.sqrt(.5), -np.sqrt(.5), 0])\n",
    "ev3 = np.array([np.sqrt(1/6), np.sqrt(1/6), -np.sqrt(2/3)])\n",
    "\n",
    "La = np.diag([la1, la2, la3])\n",
    "O = np.array([ev1, ev2, ev3])\n",
    "\n",
    "print(np.matmul(O, O.T))\n",
    "print(np.matmul(np.matmul(O, La), np.linalg.inv(O)))"
   ]
  },
  {
   "cell_type": "code",
   "execution_count": null,
   "metadata": {},
   "outputs": [],
   "source": []
  }
 ],
 "metadata": {
  "kernelspec": {
   "display_name": "csc413f23",
   "language": "python",
   "name": "python3"
  },
  "language_info": {
   "codemirror_mode": {
    "name": "ipython",
    "version": 3
   },
   "file_extension": ".py",
   "mimetype": "text/x-python",
   "name": "python",
   "nbconvert_exporter": "python",
   "pygments_lexer": "ipython3",
   "version": "3.11.5"
  }
 },
 "nbformat": 4,
 "nbformat_minor": 2
}
