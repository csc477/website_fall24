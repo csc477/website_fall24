{
 "cells": [
  {
   "cell_type": "code",
   "execution_count": 2,
   "metadata": {},
   "outputs": [],
   "source": [
    "import torch\n",
    "import torch.nn.functional as F"
   ]
  },
  {
   "cell_type": "code",
   "execution_count": 3,
   "metadata": {},
   "outputs": [],
   "source": [
    "Q = torch.tensor([\n",
    "    [1, 3], \n",
    "    [0, 1]]).float()\n",
    "\n",
    "K = torch.tensor([\n",
    "    [1, 1], \n",
    "    [1, 2],\n",
    "    [0, 1]]).float()\n",
    "\n",
    "V = torch.tensor([\n",
    "    [1, 0, -2],\n",
    "    [2, 1, 2], \n",
    "    [0, 3, -1]]).float()"
   ]
  },
  {
   "cell_type": "code",
   "execution_count": 4,
   "metadata": {},
   "outputs": [
    {
     "data": {
      "text/plain": [
       "tensor([[1.7981, 0.9986, 1.4429],\n",
       "        [1.2552, 1.2483, 0.2622]])"
      ]
     },
     "execution_count": 4,
     "metadata": {},
     "output_type": "execute_result"
    }
   ],
   "source": [
    "d_k = torch.tensor(K.shape[1])\n",
    "M = torch.matmul(Q, K.transpose(0, 1)) / torch.sqrt(d_k)\n",
    "S = torch.exp(M) / torch.sum(torch.exp(M), dim=1).view(-1,1)\n",
    "torch.matmul(S, V)"
   ]
  },
  {
   "cell_type": "markdown",
   "metadata": {},
   "source": [
    "Lazy version"
   ]
  },
  {
   "cell_type": "code",
   "execution_count": 5,
   "metadata": {},
   "outputs": [
    {
     "data": {
      "text/plain": [
       "tensor([[1.7981, 0.9986, 1.4429],\n",
       "        [1.2552, 1.2483, 0.2622]])"
      ]
     },
     "execution_count": 5,
     "metadata": {},
     "output_type": "execute_result"
    }
   ],
   "source": [
    "F.scaled_dot_product_attention(Q, K, V)"
   ]
  },
  {
   "cell_type": "code",
   "execution_count": null,
   "metadata": {},
   "outputs": [],
   "source": []
  }
 ],
 "metadata": {
  "kernelspec": {
   "display_name": "csc413f23",
   "language": "python",
   "name": "python3"
  },
  "language_info": {
   "codemirror_mode": {
    "name": "ipython",
    "version": 3
   },
   "file_extension": ".py",
   "mimetype": "text/x-python",
   "name": "python",
   "nbconvert_exporter": "python",
   "pygments_lexer": "ipython3",
   "version": "3.11.5"
  }
 },
 "nbformat": 4,
 "nbformat_minor": 2
}
