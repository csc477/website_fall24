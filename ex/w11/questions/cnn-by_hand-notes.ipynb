{
 "cells": [
  {
   "cell_type": "code",
   "execution_count": 1,
   "metadata": {},
   "outputs": [
    {
     "name": "stdout",
     "output_type": "stream",
     "text": [
      "tensor([[[[ 1.,  3., -1.],\n",
      "          [ 4.,  2.,  2.],\n",
      "          [ 5.,  3.,  3.]]]], grad_fn=<ConvolutionBackward0>)\n"
     ]
    }
   ],
   "source": [
    "import torch\n",
    "import torch.nn as nn\n",
    "\n",
    "conv = nn.Conv2d(1, 1, kernel_size=2, stride=1, padding=0, bias=False)\n",
    "\n",
    "x = torch.tensor([\n",
    "    [ 1, 0, 1, -1],\n",
    "    [ 1, 0, 1, 0],\n",
    "    [ 0, 3, 0, 1],\n",
    "    [ 1, -1, 0, 1]\n",
    "])\n",
    "\n",
    "k = torch.tensor([\n",
    "    [ 1, 2],\n",
    "    [ 0, 1]\n",
    "])\n",
    "\n",
    "conv.weight.data = k.view(1, 1, 2, 2).float()\n",
    "\n",
    "print(conv(x.view(1, 1, 4, 4).float()))"
   ]
  },
  {
   "cell_type": "code",
   "execution_count": 2,
   "metadata": {},
   "outputs": [
    {
     "name": "stdout",
     "output_type": "stream",
     "text": [
      "tensor([[[[ 1., -1.],\n",
      "          [ 5.,  3.]]]], grad_fn=<ConvolutionBackward0>)\n"
     ]
    }
   ],
   "source": [
    "conv = nn.Conv2d(1, 1, kernel_size=2, stride=2, padding=0, bias=False)\n",
    "conv.weight.data = k.view(1, 1, 2, 2).float()\n",
    "print(conv(x.view(1, 1, 4, 4).float()))"
   ]
  },
  {
   "cell_type": "code",
   "execution_count": 3,
   "metadata": {},
   "outputs": [
    {
     "name": "stdout",
     "output_type": "stream",
     "text": [
      "tensor([[[[ 1.,  1.,  0.],\n",
      "          [ 2.,  2.,  0.],\n",
      "          [ 2., -1.,  1.]]]], grad_fn=<ConvolutionBackward0>)\n"
     ]
    }
   ],
   "source": [
    "# PyTorch uses zero-padding by default\n",
    "conv = nn.Conv2d(1, 1, kernel_size=2, stride=2, padding=1, bias=False)\n",
    "conv.weight.data = k.view(1, 1, 2, 2).float()\n",
    "print(conv(x.view(1, 1, 4, 4).float()))"
   ]
  },
  {
   "cell_type": "code",
   "execution_count": null,
   "metadata": {},
   "outputs": [],
   "source": []
  }
 ],
 "metadata": {
  "kernelspec": {
   "display_name": "csc413f23",
   "language": "python",
   "name": "python3"
  },
  "language_info": {
   "codemirror_mode": {
    "name": "ipython",
    "version": 3
   },
   "file_extension": ".py",
   "mimetype": "text/x-python",
   "name": "python",
   "nbconvert_exporter": "python",
   "pygments_lexer": "ipython3",
   "version": "3.11.5"
  }
 },
 "nbformat": 4,
 "nbformat_minor": 2
}
