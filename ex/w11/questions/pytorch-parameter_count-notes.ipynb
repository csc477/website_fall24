{
 "cells": [
  {
   "cell_type": "code",
   "execution_count": 2,
   "metadata": {},
   "outputs": [
    {
     "name": "stdout",
     "output_type": "stream",
     "text": [
      "Total number of parameters: 61100840\n",
      "\n",
      "\n",
      "Parameter Overview in the backbone:\n",
      "Conv2d(3, 64, kernel_size=(11, 11), stride=(4, 4), padding=(2, 2)): 23296\n",
      "ReLU(inplace=True): 0\n",
      "MaxPool2d(kernel_size=3, stride=2, padding=0, dilation=1, ceil_mode=False): 0\n",
      "Conv2d(64, 192, kernel_size=(5, 5), stride=(1, 1), padding=(2, 2)): 307392\n",
      "ReLU(inplace=True): 0\n",
      "MaxPool2d(kernel_size=3, stride=2, padding=0, dilation=1, ceil_mode=False): 0\n",
      "Conv2d(192, 384, kernel_size=(3, 3), stride=(1, 1), padding=(1, 1)): 663936\n",
      "ReLU(inplace=True): 0\n",
      "Conv2d(384, 256, kernel_size=(3, 3), stride=(1, 1), padding=(1, 1)): 884992\n",
      "ReLU(inplace=True): 0\n",
      "Conv2d(256, 256, kernel_size=(3, 3), stride=(1, 1), padding=(1, 1)): 590080\n",
      "ReLU(inplace=True): 0\n",
      "MaxPool2d(kernel_size=3, stride=2, padding=0, dilation=1, ceil_mode=False): 0\n",
      "\n",
      "\n",
      "Parameter Ovewview in the head:\n",
      "Dropout(p=0.5, inplace=False) 0\n",
      "Linear(in_features=9216, out_features=4096, bias=True) 37752832\n",
      "ReLU(inplace=True) 0\n",
      "Dropout(p=0.5, inplace=False) 0\n",
      "Linear(in_features=4096, out_features=4096, bias=True) 16781312\n",
      "ReLU(inplace=True) 0\n",
      "Linear(in_features=4096, out_features=1000, bias=True) 4097000\n"
     ]
    }
   ],
   "source": [
    "import torchvision\n",
    "alexnet = torchvision.models.alexnet()\n",
    "\n",
    "print(\n",
    "    f\"Total number of parameters: {sum(p.numel() for p in alexnet.parameters())}\")\n",
    "\n",
    "print(\"\\n\\nParameter Overview in the backbone:\")\n",
    "for layer in alexnet.features:\n",
    "    print(f\"{layer}: {sum(p.numel() for p in layer.parameters())}\")\n",
    "\n",
    "print(\"\\n\\nParameter Ovewview in the head:\")\n",
    "for layer in alexnet.classifier:\n",
    "    print(layer, sum(p.numel() for p in layer.parameters()))"
   ]
  },
  {
   "cell_type": "code",
   "execution_count": null,
   "metadata": {},
   "outputs": [],
   "source": []
  }
 ],
 "metadata": {
  "kernelspec": {
   "display_name": "csc413f23",
   "language": "python",
   "name": "python3"
  },
  "language_info": {
   "codemirror_mode": {
    "name": "ipython",
    "version": 3
   },
   "file_extension": ".py",
   "mimetype": "text/x-python",
   "name": "python",
   "nbconvert_exporter": "python",
   "pygments_lexer": "ipython3",
   "version": "3.11.5"
  }
 },
 "nbformat": 4,
 "nbformat_minor": 2
}
