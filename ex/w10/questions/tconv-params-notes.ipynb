{
 "cells": [
  {
   "cell_type": "code",
   "execution_count": 2,
   "metadata": {},
   "outputs": [],
   "source": [
    "import torch\n",
    "import torch.nn as nn"
   ]
  },
  {
   "cell_type": "code",
   "execution_count": 3,
   "metadata": {},
   "outputs": [
    {
     "name": "stdout",
     "output_type": "stream",
     "text": [
      "[54, 2]\n",
      "[270, 10]\n",
      "[96, 2]\n",
      "[108, 4]\n"
     ]
    }
   ],
   "source": [
    "tconv = nn.ConvTranspose2d(in_channels=3, out_channels=2, kernel_size=3)\n",
    "print([p.numel() for p in tconv.parameters()])\n",
    "\n",
    "tconv = nn.ConvTranspose2d(\n",
    "    in_channels=3, out_channels=10, kernel_size=3)\n",
    "print([p.numel() for p in tconv.parameters()])\n",
    "\n",
    "tconv = nn.ConvTranspose2d(\n",
    "    in_channels=3, out_channels=2, kernel_size=4)\n",
    "print([p.numel() for p in tconv.parameters()])\n",
    "\n",
    "tconv = nn.ConvTranspose2d(\n",
    "    in_channels=3, out_channels=4, kernel_size=3)\n",
    "print([p.numel() for p in tconv.parameters()])"
   ]
  },
  {
   "cell_type": "code",
   "execution_count": null,
   "metadata": {},
   "outputs": [],
   "source": []
  }
 ],
 "metadata": {
  "kernelspec": {
   "display_name": "csc413f23",
   "language": "python",
   "name": "python3"
  },
  "language_info": {
   "codemirror_mode": {
    "name": "ipython",
    "version": 3
   },
   "file_extension": ".py",
   "mimetype": "text/x-python",
   "name": "python",
   "nbconvert_exporter": "python",
   "pygments_lexer": "ipython3",
   "version": "3.11.5"
  }
 },
 "nbformat": 4,
 "nbformat_minor": 2
}
