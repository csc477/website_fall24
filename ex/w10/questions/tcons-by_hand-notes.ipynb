{
 "cells": [
  {
   "cell_type": "code",
   "execution_count": 186,
   "metadata": {},
   "outputs": [],
   "source": [
    "import torch\n",
    "import torch.nn as nn"
   ]
  },
  {
   "cell_type": "code",
   "execution_count": 187,
   "metadata": {},
   "outputs": [],
   "source": [
    "X = torch.tensor(\n",
    "    [[1, 0, 2], \n",
    "     [2, 3, 0], \n",
    "     [-1, 0, 3]]).unsqueeze(0)\n",
    "\n",
    "K = torch.tensor(\n",
    "    [[1, 0],\n",
    "     [1, 2]]).unsqueeze(0).unsqueeze(0)"
   ]
  },
  {
   "cell_type": "markdown",
   "metadata": {},
   "source": [
    "## Solutions to (a), (b), and (c)"
   ]
  },
  {
   "cell_type": "code",
   "execution_count": 188,
   "metadata": {},
   "outputs": [
    {
     "data": {
      "text/plain": [
       "tensor([[[[ 1,  0,  0,  0,  2,  0],\n",
       "          [ 1,  2,  0,  0,  2,  4],\n",
       "          [ 2,  0,  3,  0,  0,  0],\n",
       "          [ 2,  4,  3,  6,  0,  0],\n",
       "          [-1,  0,  0,  0,  3,  0],\n",
       "          [-1, -2,  0,  0,  3,  6]]]])"
      ]
     },
     "execution_count": 188,
     "metadata": {},
     "output_type": "execute_result"
    }
   ],
   "source": [
    "nn.functional.conv_transpose2d(X.unsqueeze(0), K, stride=2)"
   ]
  },
  {
   "cell_type": "code",
   "execution_count": 189,
   "metadata": {},
   "outputs": [
    {
     "data": {
      "text/plain": [
       "tensor([[[[ 1,  0,  2,  0],\n",
       "          [ 3,  5,  2,  4],\n",
       "          [ 1,  7,  9,  0],\n",
       "          [-1, -2,  3,  6]]]])"
      ]
     },
     "execution_count": 189,
     "metadata": {},
     "output_type": "execute_result"
    }
   ],
   "source": [
    "nn.functional.conv_transpose2d(X.unsqueeze(0), K, stride=1)"
   ]
  },
  {
   "cell_type": "markdown",
   "metadata": {},
   "source": [
    "## Solution to (d)\n",
    "Below are some computations for verification."
   ]
  },
  {
   "cell_type": "code",
   "execution_count": 190,
   "metadata": {},
   "outputs": [],
   "source": [
    "def conv_transpose2d(input, weight, stride=1):\n",
    "  # input - input of shape (C_in, H, W)\n",
    "  # weight - kernel of shape (C_in, C_out, K, K)\n",
    "  # stride - stride of the transposed convolutio\n",
    "  # RETURNS\n",
    "  # output - output of shape (C_out, H_out, W_out)\n",
    "  (c_in, h_in, w_in) = X.size()\n",
    "  (c2_in, c_out, k, k2) = K.size()\n",
    "\n",
    "  assert c_in == c2_in, \"Number of input channels must match\"\n",
    "  assert k == k2, \"Kernel must be square\"\n",
    "\n",
    "  h_out = (h_in - 1) * stride + k\n",
    "  w_out = (w_in - 1) * stride + k\n",
    "  output = torch.zeros((c_out, h_out, w_out))\n",
    "\n",
    "  for c_cur_in in range(c_in):\n",
    "    for c_cur_out in range(c_out):\n",
    "      for h in range(0, h_in):\n",
    "        for w in range(0, w_in):\n",
    "          output[c_cur_out, h*stride:h*stride+k, w*stride:w*stride+k] \\\n",
    "              += weight[c_cur_in, c_cur_out,:,:] * input[c_cur_in,h,w]\n",
    "\n",
    "  return output"
   ]
  },
  {
   "cell_type": "code",
   "execution_count": 191,
   "metadata": {},
   "outputs": [
    {
     "data": {
      "text/plain": [
       "tensor([[[ 1.,  0.,  0.,  0.,  2.,  0.],\n",
       "         [ 1.,  2.,  0.,  0.,  2.,  4.],\n",
       "         [ 2.,  0.,  3.,  0.,  0.,  0.],\n",
       "         [ 2.,  4.,  3.,  6.,  0.,  0.],\n",
       "         [-1.,  0.,  0.,  0.,  3.,  0.],\n",
       "         [-1., -2.,  0.,  0.,  3.,  6.]]])"
      ]
     },
     "execution_count": 191,
     "metadata": {},
     "output_type": "execute_result"
    }
   ],
   "source": [
    "conv_transpose2d(X, K, stride=2)"
   ]
  },
  {
   "cell_type": "code",
   "execution_count": 192,
   "metadata": {},
   "outputs": [
    {
     "data": {
      "text/plain": [
       "tensor([[[ 1.,  0.,  2.,  0.],\n",
       "         [ 3.,  5.,  2.,  4.],\n",
       "         [ 1.,  7.,  9.,  0.],\n",
       "         [-1., -2.,  3.,  6.]]])"
      ]
     },
     "execution_count": 192,
     "metadata": {},
     "output_type": "execute_result"
    }
   ],
   "source": [
    "conv_transpose2d(X, K, stride=1)"
   ]
  },
  {
   "cell_type": "code",
   "execution_count": 193,
   "metadata": {},
   "outputs": [],
   "source": [
    "X = torch.randn((2,3,3))\n",
    "K = torch.randn((2,1,2,2))"
   ]
  },
  {
   "cell_type": "code",
   "execution_count": 194,
   "metadata": {},
   "outputs": [
    {
     "data": {
      "text/plain": [
       "tensor([[[ 2.5196, -3.0373, -1.7501,  1.1531],\n",
       "         [-0.2329, -1.2616, -1.2943,  0.5111],\n",
       "         [-1.0364, -0.8051, -2.0395, -1.4085],\n",
       "         [ 1.9276,  0.1688, -3.1863, -1.4459]]])"
      ]
     },
     "execution_count": 194,
     "metadata": {},
     "output_type": "execute_result"
    }
   ],
   "source": [
    "conv_transpose2d(X, K, stride=1)"
   ]
  },
  {
   "cell_type": "code",
   "execution_count": 195,
   "metadata": {},
   "outputs": [
    {
     "data": {
      "text/plain": [
       "tensor([[[[ 2.5196, -3.0373, -1.7501,  1.1531],\n",
       "          [-0.2329, -1.2616, -1.2943,  0.5111],\n",
       "          [-1.0364, -0.8051, -2.0395, -1.4085],\n",
       "          [ 1.9276,  0.1688, -3.1863, -1.4459]]]])"
      ]
     },
     "execution_count": 195,
     "metadata": {},
     "output_type": "execute_result"
    }
   ],
   "source": [
    "nn.functional.conv_transpose2d(X.unsqueeze(0), K, stride=1)"
   ]
  }
 ],
 "metadata": {
  "kernelspec": {
   "display_name": "csc413f23",
   "language": "python",
   "name": "python3"
  },
  "language_info": {
   "codemirror_mode": {
    "name": "ipython",
    "version": 3
   },
   "file_extension": ".py",
   "mimetype": "text/x-python",
   "name": "python",
   "nbconvert_exporter": "python",
   "pygments_lexer": "ipython3",
   "version": "3.11.5"
  }
 },
 "nbformat": 4,
 "nbformat_minor": 2
}
