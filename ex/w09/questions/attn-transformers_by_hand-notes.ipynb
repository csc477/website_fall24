{
 "cells": [
  {
   "cell_type": "code",
   "execution_count": 29,
   "metadata": {},
   "outputs": [],
   "source": [
    "import torch\n",
    "import torch.nn.functional as F"
   ]
  },
  {
   "cell_type": "code",
   "execution_count": 30,
   "metadata": {},
   "outputs": [],
   "source": [
    "Q = torch.tensor([[1, 2], [3, 1]]).float()\n",
    "\n",
    "K = torch.tensor([[2, 1], [1, 1], [0, 1]]).float()\n",
    "\n",
    "V = torch.tensor([[1, 2, -2], [1, 1, 2], [0, 1, -1]]).float()"
   ]
  },
  {
   "cell_type": "code",
   "execution_count": 31,
   "metadata": {},
   "outputs": [
    {
     "data": {
      "text/plain": [
       "tensor([[ 0.8600,  1.5760, -0.7240],\n",
       "        [ 0.9873,  1.8816, -1.5646]])"
      ]
     },
     "execution_count": 31,
     "metadata": {},
     "output_type": "execute_result"
    }
   ],
   "source": [
    "d_k = torch.tensor(K.shape[1])\n",
    "M = torch.matmul(Q, K.transpose(0, 1)) / torch.sqrt(d_k)\n",
    "S = torch.exp(M) / torch.sum(torch.exp(M), dim=1).view(-1,1)\n",
    "torch.matmul(S, V)"
   ]
  },
  {
   "cell_type": "markdown",
   "metadata": {},
   "source": [
    "Lazy version"
   ]
  },
  {
   "cell_type": "code",
   "execution_count": 32,
   "metadata": {},
   "outputs": [
    {
     "data": {
      "text/plain": [
       "tensor([[ 0.8600,  1.5760, -0.7240],\n",
       "        [ 0.9873,  1.8816, -1.5646]])"
      ]
     },
     "execution_count": 32,
     "metadata": {},
     "output_type": "execute_result"
    }
   ],
   "source": [
    "F.scaled_dot_product_attention(Q, K, V)"
   ]
  }
 ],
 "metadata": {
  "kernelspec": {
   "display_name": "csc413f23",
   "language": "python",
   "name": "python3"
  },
  "language_info": {
   "codemirror_mode": {
    "name": "ipython",
    "version": 3
   },
   "file_extension": ".py",
   "mimetype": "text/x-python",
   "name": "python",
   "nbconvert_exporter": "python",
   "pygments_lexer": "ipython3",
   "version": "3.11.5"
  }
 },
 "nbformat": 4,
 "nbformat_minor": 2
}
