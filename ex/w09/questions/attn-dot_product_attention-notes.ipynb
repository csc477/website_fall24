{
 "cells": [
  {
   "cell_type": "code",
   "execution_count": 1,
   "metadata": {},
   "outputs": [],
   "source": [
    "import torch\n",
    "import torch.nn\n",
    "import torch.nn.functional as F"
   ]
  },
  {
   "cell_type": "code",
   "execution_count": 3,
   "metadata": {},
   "outputs": [
    {
     "name": "stdout",
     "output_type": "stream",
     "text": [
      "tensor([0.9992, 1.9992, 2.7586]) tensor([8.8009e-01, 1.1911e-01, 8.0254e-04])\n"
     ]
    }
   ],
   "source": [
    "h = torch.tensor([[1, 2, 3], [1,2,1], [0,1,-1]])\n",
    "s = torch.tensor([1,2,1])\n",
    "a = torch.matmul(h,s).float()\n",
    "a = torch.exp(a)/torch.sum(torch.exp(a)) # Softmax\n",
    "c = a[0] * h[0] + a[1] * h[1] + a[2] * h[2]\n",
    "print(c, a)"
   ]
  },
  {
   "cell_type": "code",
   "execution_count": null,
   "metadata": {},
   "outputs": [],
   "source": []
  }
 ],
 "metadata": {
  "kernelspec": {
   "display_name": "csc413f23",
   "language": "python",
   "name": "python3"
  },
  "language_info": {
   "codemirror_mode": {
    "name": "ipython",
    "version": 3
   },
   "file_extension": ".py",
   "mimetype": "text/x-python",
   "name": "python",
   "nbconvert_exporter": "python",
   "pygments_lexer": "ipython3",
   "version": "3.11.5"
  }
 },
 "nbformat": 4,
 "nbformat_minor": 2
}
