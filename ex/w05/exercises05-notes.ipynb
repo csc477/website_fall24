{
 "cells": [
  {
   "cell_type": "markdown",
   "metadata": {},
   "source": [
    "# Ex 2: Eigenvalues and Eigenvectors to matrices"
   ]
  },
  {
   "cell_type": "markdown",
   "metadata": {},
   "source": [
    "Part (a) is straightforward. One needs to simply concatenate the given eigenvalues in a matrix."
   ]
  },
  {
   "cell_type": "code",
   "execution_count": 5,
   "metadata": {},
   "outputs": [
    {
     "data": {
      "text/plain": [
       "array([[2, 0],\n",
       "       [0, 3]])"
      ]
     },
     "execution_count": 5,
     "metadata": {},
     "output_type": "execute_result"
    }
   ],
   "source": [
    "import numpy as np\n",
    "\n",
    "la1 = 2\n",
    "la2 = 3\n",
    "ev1 = np.array([1, 0])\n",
    "ev2 = np.array([0, -1])\n",
    "\n",
    "La = np.diag([la1, la2])\n",
    "O = np.array([ev1, ev2])\n",
    "\n",
    "np.matmul(np.matmul(O, La), O.T)"
   ]
  },
  {
   "cell_type": "markdown",
   "metadata": {},
   "source": [
    "Part (b) has a catch. The eigenvectors are not normalized. So, we need to normalize them first before concatenating them in a matrix."
   ]
  },
  {
   "cell_type": "code",
   "execution_count": 4,
   "metadata": {},
   "outputs": [
    {
     "name": "stdout",
     "output_type": "stream",
     "text": [
      "[[ 2.5 -0.5]\n",
      " [-0.5  2.5]]\n",
      "[[ 2.5 -0.5]\n",
      " [-0.5  2.5]]\n",
      "1.4142135623730951\n"
     ]
    }
   ],
   "source": [
    "la1 = 2\n",
    "la2 = 3\n",
    "ev1 = np.array([1, 1])\n",
    "ev2 = np.array([1, -1])\n",
    "\n",
    "La = np.diag([la1, la2])\n",
    "O = np.array([ev1, ev2])\n",
    "\n",
    "print(np.matmul(np.matmul(O, La), np.linalg.inv(O)))\n",
    "print(np.matmul(np.matmul(O, La), (O).T)/2) # Sanity check"
   ]
  },
  {
   "cell_type": "code",
   "execution_count": 31,
   "metadata": {},
   "outputs": [
    {
     "data": {
      "text/plain": [
       "2.8284271247461903"
      ]
     },
     "execution_count": 31,
     "metadata": {},
     "output_type": "execute_result"
    }
   ],
   "source": [
    "np.linalg.norm(ev2)"
   ]
  },
  {
   "cell_type": "markdown",
   "metadata": {},
   "source": [
    "# Ex 3: SGD w. Momentum Implementation\n",
    "\n",
    "First, let's define an objective function, its gradient, and a starting point for the optimizer. In our case, this is simply $f(x) = x^2$ and $x_{init}$=1.\n"
   ]
  },
  {
   "cell_type": "code",
   "execution_count": 1,
   "metadata": {},
   "outputs": [],
   "source": [
    "def objective(x):\n",
    "    return x**2\n",
    "\n",
    "def obj_grad(x):\n",
    "    return 2*x"
   ]
  },
  {
   "cell_type": "markdown",
   "metadata": {},
   "source": [
    "Now, we implement the actual optimizer.\n"
   ]
  },
  {
   "cell_type": "code",
   "execution_count": 2,
   "metadata": {},
   "outputs": [],
   "source": [
    "def sgd_with_momentum(obj, grad, x_init, learning_rate, momentum, max_iter):\n",
    "  x = x_init\n",
    "  update = 0\n",
    "  for i in range(max_iter):\n",
    "    update = momentum * update - learning_rate * grad(x)\n",
    "    x = x + update\n",
    "\n",
    "    print('>%d f(%s) = %.5f' % (i, x, obj(x)))\n",
    "  return x"
   ]
  },
  {
   "cell_type": "code",
   "execution_count": 3,
   "metadata": {},
   "outputs": [
    {
     "name": "stdout",
     "output_type": "stream",
     "text": [
      ">0 f(2.4) = 5.76000\n",
      ">1 f(1.6199999999999999) = 2.62440\n",
      ">2 f(0.9059999999999999) = 0.82084\n",
      ">3 f(0.3677999999999999) = 0.13528\n",
      ">4 f(0.02513999999999994) = 0.00063\n",
      ">5 f(-0.15121800000000002) = 0.02287\n",
      ">6 f(-0.2091534) = 0.04375\n",
      ">7 f(-0.19629041999999997) = 0.03853\n",
      ">8 f(-0.15060084599999995) = 0.02268\n",
      ">9 f(-0.09763588979999996) = 0.00953\n",
      ">10 f(-0.05162623373999997) = 0.00267\n",
      ">11 f(-0.018296158961999986) = 0.00033\n",
      ">12 f(0.0020281102194000047) = 0.00000\n",
      ">13 f(0.011784622766219999) = 0.00014\n",
      ">14 f(0.014305954486385997) = 0.00020\n",
      ">15 f(0.012705429449191796) = 0.00016\n",
      ">16 f(0.009364081040756336) = 0.00009\n",
      ">17 f(0.005820590628387338) = 0.00003\n",
      ">18 f(0.002884727296525372) = 0.00001\n",
      ">19 f(0.0008398501712893144) = 0.00000\n"
     ]
    },
    {
     "data": {
      "text/plain": [
       "0.0008398501712893144"
      ]
     },
     "execution_count": 3,
     "metadata": {},
     "output_type": "execute_result"
    }
   ],
   "source": [
    "sgd_with_momentum(\n",
    "    objective, obj_grad, x_init=3.0, learning_rate=0.1, momentum=0.5, \n",
    "    max_iter=20\n",
    "    )"
   ]
  },
  {
   "cell_type": "code",
   "execution_count": null,
   "metadata": {},
   "outputs": [],
   "source": []
  }
 ],
 "metadata": {
  "kernelspec": {
   "display_name": "csc413f23",
   "language": "python",
   "name": "python3"
  },
  "language_info": {
   "codemirror_mode": {
    "name": "ipython",
    "version": 3
   },
   "file_extension": ".py",
   "mimetype": "text/x-python",
   "name": "python",
   "nbconvert_exporter": "python",
   "pygments_lexer": "ipython3",
   "version": "3.11.5"
  },
  "orig_nbformat": 4
 },
 "nbformat": 4,
 "nbformat_minor": 2
}
