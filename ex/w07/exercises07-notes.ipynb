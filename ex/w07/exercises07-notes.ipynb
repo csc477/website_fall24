{
 "cells": [
  {
   "cell_type": "markdown",
   "metadata": {},
   "source": [
    "# Solution Computations\n",
    "This file is for internal use where we compute the solutions to the exercises. I also compute the solutions for seemingly easy exercises here to use the code later for automation of the process."
   ]
  },
  {
   "cell_type": "markdown",
   "metadata": {},
   "source": [
    "## CNN Size"
   ]
  },
  {
   "cell_type": "code",
   "execution_count": 14,
   "metadata": {},
   "outputs": [
    {
     "name": "stdout",
     "output_type": "stream",
     "text": [
      "tensor([[[[ 3.,  3.,  1.],\n",
      "          [ 2.,  2.,  3.],\n",
      "          [ 5.,  3., -1.]]]], grad_fn=<ConvolutionBackward0>)\n"
     ]
    }
   ],
   "source": [
    "import torch\n",
    "import torch.nn as nn\n",
    "\n",
    "conv = nn.Conv2d(1, 1, kernel_size=2, stride=1, padding=0, bias=False)\n",
    "\n",
    "x = torch.tensor([\n",
    "    [ 1, 2, -1, 1],\n",
    "    [ 1, 0, 1, 0],\n",
    "    [ 0, 1, 0, 2],\n",
    "    [ 2, 1, 0, -1]\n",
    "])\n",
    "\n",
    "k = torch.tensor([\n",
    "    [ 1, 0],\n",
    "    [ 2, 1]\n",
    "])\n",
    "\n",
    "conv.weight.data = k.view(1, 1, 2, 2).float()\n",
    "\n",
    "print(conv(x.view(1, 1, 4, 4).float()))"
   ]
  },
  {
   "cell_type": "code",
   "execution_count": 15,
   "metadata": {},
   "outputs": [
    {
     "name": "stdout",
     "output_type": "stream",
     "text": [
      "tensor([[[[ 3.,  1.],\n",
      "          [ 5., -1.]]]], grad_fn=<ConvolutionBackward0>)\n"
     ]
    }
   ],
   "source": [
    "conv = nn.Conv2d(1, 1, kernel_size=2, stride=2, padding=0, bias=False)\n",
    "conv.weight.data = k.view(1, 1, 2, 2).float()\n",
    "print(conv(x.view(1, 1, 4, 4).float()))\n"
   ]
  },
  {
   "cell_type": "code",
   "execution_count": 16,
   "metadata": {},
   "outputs": [
    {
     "name": "stdout",
     "output_type": "stream",
     "text": [
      "tensor([[[[ 1.,  3.,  2.],\n",
      "          [ 0.,  2.,  4.],\n",
      "          [ 0.,  1., -1.]]]], grad_fn=<ConvolutionBackward0>)\n"
     ]
    }
   ],
   "source": [
    "# PyTorch uses zero-padding by default\n",
    "conv = nn.Conv2d(1, 1, kernel_size=2, stride=2, padding=1, bias=False)\n",
    "conv.weight.data = k.view(1, 1, 2, 2).float()\n",
    "print(conv(x.view(1, 1, 4, 4).float()))"
   ]
  },
  {
   "cell_type": "markdown",
   "metadata": {},
   "source": [
    "## VGG weight count"
   ]
  },
  {
   "cell_type": "code",
   "execution_count": 17,
   "metadata": {},
   "outputs": [
    {
     "name": "stderr",
     "output_type": "stream",
     "text": [
      "/Users/igor/Conda/envs/csc413f23/lib/python3.11/site-packages/torchvision/models/_utils.py:208: UserWarning: The parameter 'pretrained' is deprecated since 0.13 and may be removed in the future, please use 'weights' instead.\n",
      "  warnings.warn(\n",
      "/Users/igor/Conda/envs/csc413f23/lib/python3.11/site-packages/torchvision/models/_utils.py:223: UserWarning: Arguments other than a weight enum or `None` for 'weights' are deprecated since 0.13 and may be removed in the future. The current behavior is equivalent to passing `weights=None`.\n",
      "  warnings.warn(msg)\n"
     ]
    },
    {
     "name": "stdout",
     "output_type": "stream",
     "text": [
      "Total number of parameters: 132863336\n",
      "\n",
      "\n",
      "Parameter Overview in the backbone:\n",
      "Conv2d(3, 64, kernel_size=(3, 3), stride=(1, 1), padding=(1, 1)): 1792\n",
      "ReLU(inplace=True): 0\n",
      "MaxPool2d(kernel_size=2, stride=2, padding=0, dilation=1, ceil_mode=False): 0\n",
      "Conv2d(64, 128, kernel_size=(3, 3), stride=(1, 1), padding=(1, 1)): 73856\n",
      "ReLU(inplace=True): 0\n",
      "MaxPool2d(kernel_size=2, stride=2, padding=0, dilation=1, ceil_mode=False): 0\n",
      "Conv2d(128, 256, kernel_size=(3, 3), stride=(1, 1), padding=(1, 1)): 295168\n",
      "ReLU(inplace=True): 0\n",
      "Conv2d(256, 256, kernel_size=(3, 3), stride=(1, 1), padding=(1, 1)): 590080\n",
      "ReLU(inplace=True): 0\n",
      "MaxPool2d(kernel_size=2, stride=2, padding=0, dilation=1, ceil_mode=False): 0\n",
      "Conv2d(256, 512, kernel_size=(3, 3), stride=(1, 1), padding=(1, 1)): 1180160\n",
      "ReLU(inplace=True): 0\n",
      "Conv2d(512, 512, kernel_size=(3, 3), stride=(1, 1), padding=(1, 1)): 2359808\n",
      "ReLU(inplace=True): 0\n",
      "MaxPool2d(kernel_size=2, stride=2, padding=0, dilation=1, ceil_mode=False): 0\n",
      "Conv2d(512, 512, kernel_size=(3, 3), stride=(1, 1), padding=(1, 1)): 2359808\n",
      "ReLU(inplace=True): 0\n",
      "Conv2d(512, 512, kernel_size=(3, 3), stride=(1, 1), padding=(1, 1)): 2359808\n",
      "ReLU(inplace=True): 0\n",
      "MaxPool2d(kernel_size=2, stride=2, padding=0, dilation=1, ceil_mode=False): 0\n",
      "\n",
      "\n",
      "Parameter Ovewview in the head:\n",
      "Linear(in_features=25088, out_features=4096, bias=True) 102764544\n",
      "ReLU(inplace=True) 0\n",
      "Dropout(p=0.5, inplace=False) 0\n",
      "Linear(in_features=4096, out_features=4096, bias=True) 16781312\n",
      "ReLU(inplace=True) 0\n",
      "Dropout(p=0.5, inplace=False) 0\n",
      "Linear(in_features=4096, out_features=1000, bias=True) 4097000\n"
     ]
    }
   ],
   "source": [
    "import torchvision\n",
    "vgg11 = torchvision.models.vgg.vgg11(pretrained=False)\n",
    "\n",
    "print(\n",
    "    f\"Total number of parameters: {sum(p.numel() for p in vgg11.parameters())}\")\n",
    "\n",
    "print(\"\\n\\nParameter Overview in the backbone:\")\n",
    "for layer in vgg11.features:\n",
    "    print(f\"{layer}: {sum(p.numel() for p in layer.parameters())}\")\n",
    "\n",
    "print(\"\\n\\nParameter Ovewview in the head:\")\n",
    "for layer in vgg11.classifier:\n",
    "    print(layer, sum(p.numel() for p in layer.parameters()))"
   ]
  },
  {
   "cell_type": "code",
   "execution_count": null,
   "metadata": {},
   "outputs": [],
   "source": []
  }
 ],
 "metadata": {
  "kernelspec": {
   "display_name": "csc413f23",
   "language": "python",
   "name": "python3"
  },
  "language_info": {
   "codemirror_mode": {
    "name": "ipython",
    "version": 3
   },
   "file_extension": ".py",
   "mimetype": "text/x-python",
   "name": "python",
   "nbconvert_exporter": "python",
   "pygments_lexer": "ipython3",
   "version": "3.11.5"
  },
  "orig_nbformat": 4
 },
 "nbformat": 4,
 "nbformat_minor": 2
}
