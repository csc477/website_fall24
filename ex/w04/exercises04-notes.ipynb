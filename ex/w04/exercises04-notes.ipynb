{
 "cells": [
  {
   "cell_type": "markdown",
   "metadata": {},
   "source": [
    "# Solution Computations\n",
    "This file is for internal use where we compute the solutions to the exercises. I also compute the solutions for seemingly easy exercises here to use the code later for automation of the process."
   ]
  },
  {
   "cell_type": "markdown",
   "metadata": {},
   "source": [
    "## CNN Size exercise solutions"
   ]
  },
  {
   "cell_type": "code",
   "execution_count": 2,
   "metadata": {},
   "outputs": [
    {
     "name": "stdout",
     "output_type": "stream",
     "text": [
      "tensor([[[[ 3., -1., -3.],\n",
      "          [ 2.,  3.,  3.],\n",
      "          [ 5.,  2.,  1.]]]], grad_fn=<ConvolutionBackward0>)\n"
     ]
    }
   ],
   "source": [
    "import torch\n",
    "import torch.nn as nn\n",
    "\n",
    "conv = nn.Conv2d(1, 1, kernel_size=2, stride=1, padding=0, bias=False)\n",
    "\n",
    "x = torch.tensor([\n",
    "    [ 1, 0, -2, 1],\n",
    "    [ 0, 1, 1, 0],\n",
    "    [ 0, 1, 0, 1],\n",
    "    [ -3, 4, 0, 0]\n",
    "])\n",
    "\n",
    "k = torch.tensor([\n",
    "    [ 2, 1],\n",
    "    [ 0, 1]\n",
    "])\n",
    "\n",
    "conv.weight.data = k.view(1, 1, 2, 2).float()\n",
    "\n",
    "print(conv(x.view(1, 1, 4, 4).float()))\n",
    "\n",
    "\n"
   ]
  },
  {
   "cell_type": "code",
   "execution_count": 7,
   "metadata": {},
   "outputs": [
    {
     "name": "stdout",
     "output_type": "stream",
     "text": [
      "tensor([[[[ 3., -3.],\n",
      "          [ 5.,  1.]]]], grad_fn=<ConvolutionBackward0>)\n"
     ]
    }
   ],
   "source": [
    "conv = nn.Conv2d(1, 1, kernel_size=2, stride=2, padding=0, bias=False)\n",
    "conv.weight.data = k.view(1, 1, 2, 2).float()\n",
    "print(conv(x.view(1, 1, 4, 4).float()))\n"
   ]
  },
  {
   "cell_type": "code",
   "execution_count": 8,
   "metadata": {},
   "outputs": [
    {
     "name": "stdout",
     "output_type": "stream",
     "text": [
      "tensor([[[[ 1., -2.,  0.],\n",
      "          [ 0.,  3.,  0.],\n",
      "          [-3.,  8.,  0.]]]], grad_fn=<ConvolutionBackward0>)\n"
     ]
    }
   ],
   "source": [
    "# PyTorch uses zero-padding by default\n",
    "conv = nn.Conv2d(1, 1, kernel_size=2, stride=2, padding=1, bias=False)\n",
    "conv.weight.data = k.view(1, 1, 2, 2).float()\n",
    "print(conv(x.view(1, 1, 4, 4).float()))\n"
   ]
  },
  {
   "cell_type": "markdown",
   "metadata": {},
   "source": [
    "## Exercise 3 MLP Sizes"
   ]
  },
  {
   "cell_type": "code",
   "execution_count": 13,
   "metadata": {},
   "outputs": [
    {
     "name": "stdout",
     "output_type": "stream",
     "text": [
      "55\n",
      "60\n",
      "55\n"
     ]
    }
   ],
   "source": [
    "a = nn.Sequential(\n",
    "    nn.Linear(10,5),\n",
    "    nn.Linear(5,10),\n",
    "    nn.Linear(10,5)\n",
    ")\n",
    "\n",
    "for i in a:\n",
    "    print(sum(p.numel() for p in i.parameters()))"
   ]
  },
  {
   "cell_type": "markdown",
   "metadata": {},
   "source": [
    "## Exercise 4 CNN Sizes"
   ]
  },
  {
   "cell_type": "code",
   "execution_count": 29,
   "metadata": {},
   "outputs": [
    {
     "name": "stdout",
     "output_type": "stream",
     "text": [
      "1. Activation: torch.Size([1, 5, 98, 98]), Params: 140\n",
      "2. Activation: torch.Size([1, 5, 49, 49]), Params: 0\n",
      "3. Activation: torch.Size([1, 10, 47, 47]), Params: 460\n",
      "4. Activation: torch.Size([1, 10, 23, 23]), Params: 0\n",
      "5. Activation: torch.Size([1, 5, 21, 21]), Params: 455\n",
      "6. Activation: torch.Size([1, 2205]), Params: 0\n",
      "7. Activation: torch.Size([1, 20]), Params: 44120\n",
      "8. Activation: torch.Size([1, 10]), Params: 210\n"
     ]
    }
   ],
   "source": [
    "inp = torch.randn(1, 3, 100, 100)\n",
    "arch = nn.Sequential(\n",
    "    nn.Conv2d(3, 5, kernel_size=3),\n",
    "    nn.MaxPool2d(2, stride=2),\n",
    "    nn.Conv2d(5, 10, kernel_size=3, stride=1),\n",
    "    nn.MaxPool2d(2, stride=2),\n",
    "    nn.Conv2d(10, 5, kernel_size=3, stride=1),\n",
    "    nn.Flatten(),\n",
    "    nn.Linear(2205, 20),\n",
    "    nn.Linear(20,10)\n",
    ")\n",
    "\n",
    "cur = inp\n",
    "for num, layer in enumerate(arch):\n",
    "    cur = layer(cur)\n",
    "    print(f\"{num+1}. Activation: {cur.shape}, Params: {sum(p.numel() for p in layer.parameters())}\") "
   ]
  },
  {
   "cell_type": "code",
   "execution_count": 22,
   "metadata": {},
   "outputs": [
    {
     "name": "stdout",
     "output_type": "stream",
     "text": [
      "0 5\n",
      "1 4\n",
      "2 2\n"
     ]
    }
   ],
   "source": []
  },
  {
   "cell_type": "code",
   "execution_count": null,
   "metadata": {},
   "outputs": [],
   "source": []
  }
 ],
 "metadata": {
  "kernelspec": {
   "display_name": "csc413f23",
   "language": "python",
   "name": "python3"
  },
  "language_info": {
   "codemirror_mode": {
    "name": "ipython",
    "version": 3
   },
   "file_extension": ".py",
   "mimetype": "text/x-python",
   "name": "python",
   "nbconvert_exporter": "python",
   "pygments_lexer": "ipython3",
   "version": "3.11.5"
  },
  "orig_nbformat": 4
 },
 "nbformat": 4,
 "nbformat_minor": 2
}
